{
 "cells": [
  {
   "cell_type": "code",
   "execution_count": 1,
   "metadata": {},
   "outputs": [],
   "source": [
    "%matplotlib inline\n",
    "import matplotlib.pyplot as plt\n",
    "import seaborn as sns\n",
    "\n",
    "import pandas as pd\n",
    "import numpy as np\n",
    "from pylab import rcParams\n",
    "\n",
    "import tensorflow as tf\n",
    "from tensorflow.keras import optimizers, Sequential\n",
    "from tensorflow.keras.models import Model\n",
    "from tensorflow.keras.utils import plot_model\n",
    "from tensorflow.keras.layers import Dense, LSTM, RepeatVector, TimeDistributed, Dropout, Attention\n",
    "from tensorflow.keras.callbacks import ModelCheckpoint, TensorBoard\n",
    "from tensorflow.keras.layers import LeakyReLU\n",
    "\n",
    "from sklearn.preprocessing import StandardScaler\n",
    "from sklearn.model_selection import train_test_split\n",
    "from sklearn.metrics import confusion_matrix, precision_recall_curve\n",
    "from sklearn.metrics import recall_score, classification_report, auc, roc_curve\n",
    "from sklearn.metrics import precision_recall_fscore_support, f1_score\n",
    "\n",
    "from numpy.random import seed\n",
    "seed(7)\n",
    "\n",
    "from sklearn.model_selection import train_test_split\n",
    "\n",
    "import tensorflow_probability as tfp\n",
    "\n",
    "tfd = tfp.distributions\n",
    "tfpl = tfp.layers\n",
    "SEED = 123 #used to help randomly select the data points\n",
    "DATA_SPLIT_PCT = 0.2\n",
    "\n",
    "rcParams['figure.figsize'] = 8, 6\n",
    "LABELS = [\"Normal\",\"Break\"]\n",
    "from joblib import Parallel, delayed"
   ]
  },
  {
   "cell_type": "markdown",
   "metadata": {},
   "source": [
    "## Reading and preparing data"
   ]
  },
  {
   "cell_type": "code",
   "execution_count": 2,
   "metadata": {},
   "outputs": [
    {
     "data": {
      "text/html": [
       "<div>\n",
       "<style scoped>\n",
       "    .dataframe tbody tr th:only-of-type {\n",
       "        vertical-align: middle;\n",
       "    }\n",
       "\n",
       "    .dataframe tbody tr th {\n",
       "        vertical-align: top;\n",
       "    }\n",
       "\n",
       "    .dataframe thead th {\n",
       "        text-align: right;\n",
       "    }\n",
       "</style>\n",
       "<table border=\"1\" class=\"dataframe\">\n",
       "  <thead>\n",
       "    <tr style=\"text-align: right;\">\n",
       "      <th></th>\n",
       "      <th>Unnamed: 0</th>\n",
       "      <th>faultNumber</th>\n",
       "      <th>simulationRun</th>\n",
       "      <th>sample</th>\n",
       "      <th>xmeas_1</th>\n",
       "      <th>xmeas_2</th>\n",
       "      <th>xmeas_3</th>\n",
       "      <th>xmeas_4</th>\n",
       "      <th>xmeas_5</th>\n",
       "      <th>xmeas_6</th>\n",
       "      <th>...</th>\n",
       "      <th>xmv_2</th>\n",
       "      <th>xmv_3</th>\n",
       "      <th>xmv_4</th>\n",
       "      <th>xmv_5</th>\n",
       "      <th>xmv_6</th>\n",
       "      <th>xmv_7</th>\n",
       "      <th>xmv_8</th>\n",
       "      <th>xmv_9</th>\n",
       "      <th>xmv_10</th>\n",
       "      <th>xmv_11</th>\n",
       "    </tr>\n",
       "  </thead>\n",
       "  <tbody>\n",
       "    <tr>\n",
       "      <th>0</th>\n",
       "      <td>0</td>\n",
       "      <td>0</td>\n",
       "      <td>1.0</td>\n",
       "      <td>1</td>\n",
       "      <td>0.25171</td>\n",
       "      <td>3672.4</td>\n",
       "      <td>4466.3</td>\n",
       "      <td>9.5122</td>\n",
       "      <td>27.057</td>\n",
       "      <td>42.473</td>\n",
       "      <td>...</td>\n",
       "      <td>54.494</td>\n",
       "      <td>24.527</td>\n",
       "      <td>59.710</td>\n",
       "      <td>22.357</td>\n",
       "      <td>40.149</td>\n",
       "      <td>40.074</td>\n",
       "      <td>47.955</td>\n",
       "      <td>47.300</td>\n",
       "      <td>42.100</td>\n",
       "      <td>15.345</td>\n",
       "    </tr>\n",
       "    <tr>\n",
       "      <th>1</th>\n",
       "      <td>1</td>\n",
       "      <td>0</td>\n",
       "      <td>1.0</td>\n",
       "      <td>2</td>\n",
       "      <td>0.25234</td>\n",
       "      <td>3642.2</td>\n",
       "      <td>4568.7</td>\n",
       "      <td>9.4145</td>\n",
       "      <td>26.999</td>\n",
       "      <td>42.586</td>\n",
       "      <td>...</td>\n",
       "      <td>53.269</td>\n",
       "      <td>24.465</td>\n",
       "      <td>60.466</td>\n",
       "      <td>22.413</td>\n",
       "      <td>39.956</td>\n",
       "      <td>36.651</td>\n",
       "      <td>45.038</td>\n",
       "      <td>47.502</td>\n",
       "      <td>40.553</td>\n",
       "      <td>16.063</td>\n",
       "    </tr>\n",
       "    <tr>\n",
       "      <th>2</th>\n",
       "      <td>2</td>\n",
       "      <td>0</td>\n",
       "      <td>1.0</td>\n",
       "      <td>3</td>\n",
       "      <td>0.24840</td>\n",
       "      <td>3643.1</td>\n",
       "      <td>4507.5</td>\n",
       "      <td>9.2901</td>\n",
       "      <td>26.927</td>\n",
       "      <td>42.278</td>\n",
       "      <td>...</td>\n",
       "      <td>54.000</td>\n",
       "      <td>24.860</td>\n",
       "      <td>60.642</td>\n",
       "      <td>22.199</td>\n",
       "      <td>40.074</td>\n",
       "      <td>41.868</td>\n",
       "      <td>44.553</td>\n",
       "      <td>47.479</td>\n",
       "      <td>41.341</td>\n",
       "      <td>20.452</td>\n",
       "    </tr>\n",
       "    <tr>\n",
       "      <th>3</th>\n",
       "      <td>3</td>\n",
       "      <td>0</td>\n",
       "      <td>1.0</td>\n",
       "      <td>4</td>\n",
       "      <td>0.25153</td>\n",
       "      <td>3628.3</td>\n",
       "      <td>4519.3</td>\n",
       "      <td>9.3347</td>\n",
       "      <td>26.999</td>\n",
       "      <td>42.330</td>\n",
       "      <td>...</td>\n",
       "      <td>53.860</td>\n",
       "      <td>24.553</td>\n",
       "      <td>61.908</td>\n",
       "      <td>21.981</td>\n",
       "      <td>40.141</td>\n",
       "      <td>40.066</td>\n",
       "      <td>48.048</td>\n",
       "      <td>47.440</td>\n",
       "      <td>40.780</td>\n",
       "      <td>17.123</td>\n",
       "    </tr>\n",
       "    <tr>\n",
       "      <th>4</th>\n",
       "      <td>4</td>\n",
       "      <td>0</td>\n",
       "      <td>1.0</td>\n",
       "      <td>5</td>\n",
       "      <td>0.21763</td>\n",
       "      <td>3655.8</td>\n",
       "      <td>4571.0</td>\n",
       "      <td>9.3087</td>\n",
       "      <td>26.901</td>\n",
       "      <td>42.402</td>\n",
       "      <td>...</td>\n",
       "      <td>53.307</td>\n",
       "      <td>21.775</td>\n",
       "      <td>61.891</td>\n",
       "      <td>22.412</td>\n",
       "      <td>37.696</td>\n",
       "      <td>38.295</td>\n",
       "      <td>44.678</td>\n",
       "      <td>47.530</td>\n",
       "      <td>41.089</td>\n",
       "      <td>18.681</td>\n",
       "    </tr>\n",
       "  </tbody>\n",
       "</table>\n",
       "<p>5 rows × 56 columns</p>\n",
       "</div>"
      ],
      "text/plain": [
       "   Unnamed: 0  faultNumber  simulationRun  sample  xmeas_1  xmeas_2  xmeas_3  \\\n",
       "0           0            0            1.0       1  0.25171   3672.4   4466.3   \n",
       "1           1            0            1.0       2  0.25234   3642.2   4568.7   \n",
       "2           2            0            1.0       3  0.24840   3643.1   4507.5   \n",
       "3           3            0            1.0       4  0.25153   3628.3   4519.3   \n",
       "4           4            0            1.0       5  0.21763   3655.8   4571.0   \n",
       "\n",
       "   xmeas_4  xmeas_5  xmeas_6  ...   xmv_2   xmv_3   xmv_4   xmv_5   xmv_6  \\\n",
       "0   9.5122   27.057   42.473  ...  54.494  24.527  59.710  22.357  40.149   \n",
       "1   9.4145   26.999   42.586  ...  53.269  24.465  60.466  22.413  39.956   \n",
       "2   9.2901   26.927   42.278  ...  54.000  24.860  60.642  22.199  40.074   \n",
       "3   9.3347   26.999   42.330  ...  53.860  24.553  61.908  21.981  40.141   \n",
       "4   9.3087   26.901   42.402  ...  53.307  21.775  61.891  22.412  37.696   \n",
       "\n",
       "    xmv_7   xmv_8   xmv_9  xmv_10  xmv_11  \n",
       "0  40.074  47.955  47.300  42.100  15.345  \n",
       "1  36.651  45.038  47.502  40.553  16.063  \n",
       "2  41.868  44.553  47.479  41.341  20.452  \n",
       "3  40.066  48.048  47.440  40.780  17.123  \n",
       "4  38.295  44.678  47.530  41.089  18.681  \n",
       "\n",
       "[5 rows x 56 columns]"
      ]
     },
     "execution_count": 2,
     "metadata": {},
     "output_type": "execute_result"
    }
   ],
   "source": [
    "df = pd.read_csv(\"../data/processed/train.csv\") \n",
    "df.head(n=5)  # visualize the data."
   ]
  },
  {
   "cell_type": "code",
   "execution_count": 3,
   "metadata": {},
   "outputs": [],
   "source": [
    "# Remove simulation columns\n",
    "df = df.drop(['simulationRun', 'sample', 'Unnamed: 0'], axis=1)\n",
    "#ignore the hard to detect faults\n",
    "df = df.drop(df[(df.faultNumber == 3) | (df.faultNumber == 9) | (df.faultNumber == 15)].index).reset_index()\n",
    "#make label binary\n",
    "df.loc[df['faultNumber'] > 0, 'faultNumber'] = 1\n"
   ]
  },
  {
   "cell_type": "code",
   "execution_count": 4,
   "metadata": {},
   "outputs": [
    {
     "data": {
      "text/html": [
       "<div>\n",
       "<style scoped>\n",
       "    .dataframe tbody tr th:only-of-type {\n",
       "        vertical-align: middle;\n",
       "    }\n",
       "\n",
       "    .dataframe tbody tr th {\n",
       "        vertical-align: top;\n",
       "    }\n",
       "\n",
       "    .dataframe thead th {\n",
       "        text-align: right;\n",
       "    }\n",
       "</style>\n",
       "<table border=\"1\" class=\"dataframe\">\n",
       "  <thead>\n",
       "    <tr style=\"text-align: right;\">\n",
       "      <th></th>\n",
       "      <th>index</th>\n",
       "      <th>faultNumber</th>\n",
       "      <th>xmeas_1</th>\n",
       "      <th>xmeas_2</th>\n",
       "      <th>xmeas_3</th>\n",
       "      <th>xmeas_4</th>\n",
       "      <th>xmeas_5</th>\n",
       "      <th>xmeas_6</th>\n",
       "      <th>xmeas_7</th>\n",
       "      <th>xmeas_8</th>\n",
       "      <th>...</th>\n",
       "      <th>xmv_2</th>\n",
       "      <th>xmv_3</th>\n",
       "      <th>xmv_4</th>\n",
       "      <th>xmv_5</th>\n",
       "      <th>xmv_6</th>\n",
       "      <th>xmv_7</th>\n",
       "      <th>xmv_8</th>\n",
       "      <th>xmv_9</th>\n",
       "      <th>xmv_10</th>\n",
       "      <th>xmv_11</th>\n",
       "    </tr>\n",
       "  </thead>\n",
       "  <tbody>\n",
       "    <tr>\n",
       "      <th>1775941</th>\n",
       "      <td>2004421</td>\n",
       "      <td>1</td>\n",
       "      <td>0.67782</td>\n",
       "      <td>3598.3</td>\n",
       "      <td>4433.6</td>\n",
       "      <td>8.4818</td>\n",
       "      <td>27.025</td>\n",
       "      <td>41.472</td>\n",
       "      <td>2703.4</td>\n",
       "      <td>76.963</td>\n",
       "      <td>...</td>\n",
       "      <td>52.862</td>\n",
       "      <td>66.524</td>\n",
       "      <td>55.708</td>\n",
       "      <td>18.901</td>\n",
       "      <td>23.442</td>\n",
       "      <td>43.325</td>\n",
       "      <td>47.673</td>\n",
       "      <td>34.174</td>\n",
       "      <td>39.221</td>\n",
       "      <td>20.641</td>\n",
       "    </tr>\n",
       "    <tr>\n",
       "      <th>5483361</th>\n",
       "      <td>6366561</td>\n",
       "      <td>1</td>\n",
       "      <td>0.28924</td>\n",
       "      <td>3657.7</td>\n",
       "      <td>4361.6</td>\n",
       "      <td>9.8264</td>\n",
       "      <td>27.128</td>\n",
       "      <td>42.575</td>\n",
       "      <td>2675.8</td>\n",
       "      <td>71.933</td>\n",
       "      <td>...</td>\n",
       "      <td>52.338</td>\n",
       "      <td>28.952</td>\n",
       "      <td>65.931</td>\n",
       "      <td>21.808</td>\n",
       "      <td>40.045</td>\n",
       "      <td>42.415</td>\n",
       "      <td>48.800</td>\n",
       "      <td>30.116</td>\n",
       "      <td>39.409</td>\n",
       "      <td>15.966</td>\n",
       "    </tr>\n",
       "    <tr>\n",
       "      <th>6594337</th>\n",
       "      <td>7673377</td>\n",
       "      <td>1</td>\n",
       "      <td>0.28443</td>\n",
       "      <td>3614.5</td>\n",
       "      <td>4526.2</td>\n",
       "      <td>9.2829</td>\n",
       "      <td>26.934</td>\n",
       "      <td>42.143</td>\n",
       "      <td>2700.5</td>\n",
       "      <td>74.604</td>\n",
       "      <td>...</td>\n",
       "      <td>54.184</td>\n",
       "      <td>27.936</td>\n",
       "      <td>60.924</td>\n",
       "      <td>21.409</td>\n",
       "      <td>39.476</td>\n",
       "      <td>38.000</td>\n",
       "      <td>46.045</td>\n",
       "      <td>45.477</td>\n",
       "      <td>41.313</td>\n",
       "      <td>18.931</td>\n",
       "    </tr>\n",
       "    <tr>\n",
       "      <th>4578773</th>\n",
       "      <td>5302613</td>\n",
       "      <td>1</td>\n",
       "      <td>0.23573</td>\n",
       "      <td>3627.2</td>\n",
       "      <td>4479.8</td>\n",
       "      <td>9.3398</td>\n",
       "      <td>26.952</td>\n",
       "      <td>42.309</td>\n",
       "      <td>2704.5</td>\n",
       "      <td>75.166</td>\n",
       "      <td>...</td>\n",
       "      <td>53.781</td>\n",
       "      <td>23.806</td>\n",
       "      <td>61.833</td>\n",
       "      <td>22.301</td>\n",
       "      <td>38.591</td>\n",
       "      <td>40.994</td>\n",
       "      <td>47.316</td>\n",
       "      <td>50.161</td>\n",
       "      <td>44.732</td>\n",
       "      <td>18.260</td>\n",
       "    </tr>\n",
       "    <tr>\n",
       "      <th>2866242</th>\n",
       "      <td>3287682</td>\n",
       "      <td>1</td>\n",
       "      <td>0.25882</td>\n",
       "      <td>3675.1</td>\n",
       "      <td>4501.0</td>\n",
       "      <td>9.3489</td>\n",
       "      <td>26.960</td>\n",
       "      <td>42.499</td>\n",
       "      <td>2701.8</td>\n",
       "      <td>74.750</td>\n",
       "      <td>...</td>\n",
       "      <td>53.800</td>\n",
       "      <td>25.777</td>\n",
       "      <td>61.220</td>\n",
       "      <td>22.149</td>\n",
       "      <td>41.274</td>\n",
       "      <td>37.047</td>\n",
       "      <td>48.394</td>\n",
       "      <td>51.199</td>\n",
       "      <td>40.898</td>\n",
       "      <td>19.910</td>\n",
       "    </tr>\n",
       "    <tr>\n",
       "      <th>...</th>\n",
       "      <td>...</td>\n",
       "      <td>...</td>\n",
       "      <td>...</td>\n",
       "      <td>...</td>\n",
       "      <td>...</td>\n",
       "      <td>...</td>\n",
       "      <td>...</td>\n",
       "      <td>...</td>\n",
       "      <td>...</td>\n",
       "      <td>...</td>\n",
       "      <td>...</td>\n",
       "      <td>...</td>\n",
       "      <td>...</td>\n",
       "      <td>...</td>\n",
       "      <td>...</td>\n",
       "      <td>...</td>\n",
       "      <td>...</td>\n",
       "      <td>...</td>\n",
       "      <td>...</td>\n",
       "      <td>...</td>\n",
       "      <td>...</td>\n",
       "    </tr>\n",
       "    <tr>\n",
       "      <th>479995</th>\n",
       "      <td>479995</td>\n",
       "      <td>0</td>\n",
       "      <td>0.26428</td>\n",
       "      <td>3671.5</td>\n",
       "      <td>4510.8</td>\n",
       "      <td>9.2852</td>\n",
       "      <td>27.141</td>\n",
       "      <td>42.297</td>\n",
       "      <td>2699.9</td>\n",
       "      <td>74.296</td>\n",
       "      <td>...</td>\n",
       "      <td>53.942</td>\n",
       "      <td>26.022</td>\n",
       "      <td>61.709</td>\n",
       "      <td>22.417</td>\n",
       "      <td>40.510</td>\n",
       "      <td>36.731</td>\n",
       "      <td>50.115</td>\n",
       "      <td>52.721</td>\n",
       "      <td>40.927</td>\n",
       "      <td>18.854</td>\n",
       "    </tr>\n",
       "    <tr>\n",
       "      <th>479996</th>\n",
       "      <td>479996</td>\n",
       "      <td>0</td>\n",
       "      <td>0.25132</td>\n",
       "      <td>3573.4</td>\n",
       "      <td>4483.9</td>\n",
       "      <td>9.2872</td>\n",
       "      <td>26.604</td>\n",
       "      <td>42.311</td>\n",
       "      <td>2698.1</td>\n",
       "      <td>74.629</td>\n",
       "      <td>...</td>\n",
       "      <td>53.760</td>\n",
       "      <td>24.585</td>\n",
       "      <td>61.267</td>\n",
       "      <td>21.928</td>\n",
       "      <td>39.893</td>\n",
       "      <td>34.136</td>\n",
       "      <td>47.714</td>\n",
       "      <td>52.908</td>\n",
       "      <td>41.412</td>\n",
       "      <td>18.847</td>\n",
       "    </tr>\n",
       "    <tr>\n",
       "      <th>479997</th>\n",
       "      <td>479997</td>\n",
       "      <td>0</td>\n",
       "      <td>0.25105</td>\n",
       "      <td>3622.6</td>\n",
       "      <td>4433.3</td>\n",
       "      <td>9.3998</td>\n",
       "      <td>26.707</td>\n",
       "      <td>41.936</td>\n",
       "      <td>2699.5</td>\n",
       "      <td>75.484</td>\n",
       "      <td>...</td>\n",
       "      <td>54.366</td>\n",
       "      <td>24.613</td>\n",
       "      <td>61.745</td>\n",
       "      <td>22.212</td>\n",
       "      <td>40.098</td>\n",
       "      <td>35.585</td>\n",
       "      <td>48.241</td>\n",
       "      <td>53.099</td>\n",
       "      <td>40.150</td>\n",
       "      <td>16.791</td>\n",
       "    </tr>\n",
       "    <tr>\n",
       "      <th>479998</th>\n",
       "      <td>479998</td>\n",
       "      <td>0</td>\n",
       "      <td>0.24521</td>\n",
       "      <td>3660.5</td>\n",
       "      <td>4485.2</td>\n",
       "      <td>9.3885</td>\n",
       "      <td>26.936</td>\n",
       "      <td>42.639</td>\n",
       "      <td>2700.5</td>\n",
       "      <td>74.614</td>\n",
       "      <td>...</td>\n",
       "      <td>53.289</td>\n",
       "      <td>24.371</td>\n",
       "      <td>62.811</td>\n",
       "      <td>22.249</td>\n",
       "      <td>39.536</td>\n",
       "      <td>35.609</td>\n",
       "      <td>46.495</td>\n",
       "      <td>53.157</td>\n",
       "      <td>41.065</td>\n",
       "      <td>17.097</td>\n",
       "    </tr>\n",
       "    <tr>\n",
       "      <th>479999</th>\n",
       "      <td>479999</td>\n",
       "      <td>0</td>\n",
       "      <td>0.24373</td>\n",
       "      <td>3652.1</td>\n",
       "      <td>4471.8</td>\n",
       "      <td>9.4359</td>\n",
       "      <td>27.309</td>\n",
       "      <td>42.015</td>\n",
       "      <td>2703.9</td>\n",
       "      <td>74.769</td>\n",
       "      <td>...</td>\n",
       "      <td>53.450</td>\n",
       "      <td>24.516</td>\n",
       "      <td>60.734</td>\n",
       "      <td>22.731</td>\n",
       "      <td>39.131</td>\n",
       "      <td>39.078</td>\n",
       "      <td>43.477</td>\n",
       "      <td>53.407</td>\n",
       "      <td>41.596</td>\n",
       "      <td>16.697</td>\n",
       "    </tr>\n",
       "  </tbody>\n",
       "</table>\n",
       "<p>960000 rows × 54 columns</p>\n",
       "</div>"
      ],
      "text/plain": [
       "           index  faultNumber  xmeas_1  xmeas_2  xmeas_3  xmeas_4  xmeas_5  \\\n",
       "1775941  2004421            1  0.67782   3598.3   4433.6   8.4818   27.025   \n",
       "5483361  6366561            1  0.28924   3657.7   4361.6   9.8264   27.128   \n",
       "6594337  7673377            1  0.28443   3614.5   4526.2   9.2829   26.934   \n",
       "4578773  5302613            1  0.23573   3627.2   4479.8   9.3398   26.952   \n",
       "2866242  3287682            1  0.25882   3675.1   4501.0   9.3489   26.960   \n",
       "...          ...          ...      ...      ...      ...      ...      ...   \n",
       "479995    479995            0  0.26428   3671.5   4510.8   9.2852   27.141   \n",
       "479996    479996            0  0.25132   3573.4   4483.9   9.2872   26.604   \n",
       "479997    479997            0  0.25105   3622.6   4433.3   9.3998   26.707   \n",
       "479998    479998            0  0.24521   3660.5   4485.2   9.3885   26.936   \n",
       "479999    479999            0  0.24373   3652.1   4471.8   9.4359   27.309   \n",
       "\n",
       "         xmeas_6  xmeas_7  xmeas_8  ...   xmv_2   xmv_3   xmv_4   xmv_5  \\\n",
       "1775941   41.472   2703.4   76.963  ...  52.862  66.524  55.708  18.901   \n",
       "5483361   42.575   2675.8   71.933  ...  52.338  28.952  65.931  21.808   \n",
       "6594337   42.143   2700.5   74.604  ...  54.184  27.936  60.924  21.409   \n",
       "4578773   42.309   2704.5   75.166  ...  53.781  23.806  61.833  22.301   \n",
       "2866242   42.499   2701.8   74.750  ...  53.800  25.777  61.220  22.149   \n",
       "...          ...      ...      ...  ...     ...     ...     ...     ...   \n",
       "479995    42.297   2699.9   74.296  ...  53.942  26.022  61.709  22.417   \n",
       "479996    42.311   2698.1   74.629  ...  53.760  24.585  61.267  21.928   \n",
       "479997    41.936   2699.5   75.484  ...  54.366  24.613  61.745  22.212   \n",
       "479998    42.639   2700.5   74.614  ...  53.289  24.371  62.811  22.249   \n",
       "479999    42.015   2703.9   74.769  ...  53.450  24.516  60.734  22.731   \n",
       "\n",
       "          xmv_6   xmv_7   xmv_8   xmv_9  xmv_10  xmv_11  \n",
       "1775941  23.442  43.325  47.673  34.174  39.221  20.641  \n",
       "5483361  40.045  42.415  48.800  30.116  39.409  15.966  \n",
       "6594337  39.476  38.000  46.045  45.477  41.313  18.931  \n",
       "4578773  38.591  40.994  47.316  50.161  44.732  18.260  \n",
       "2866242  41.274  37.047  48.394  51.199  40.898  19.910  \n",
       "...         ...     ...     ...     ...     ...     ...  \n",
       "479995   40.510  36.731  50.115  52.721  40.927  18.854  \n",
       "479996   39.893  34.136  47.714  52.908  41.412  18.847  \n",
       "479997   40.098  35.585  48.241  53.099  40.150  16.791  \n",
       "479998   39.536  35.609  46.495  53.157  41.065  17.097  \n",
       "479999   39.131  39.078  43.477  53.407  41.596  16.697  \n",
       "\n",
       "[960000 rows x 54 columns]"
      ]
     },
     "execution_count": 4,
     "metadata": {},
     "output_type": "execute_result"
    }
   ],
   "source": [
    "#balance classes\n",
    "df = df[df['faultNumber']!=0].sample(n=len(df[df['faultNumber']==0])).append(df[df['faultNumber']==0])\n",
    "df"
   ]
  },
  {
   "cell_type": "markdown",
   "metadata": {},
   "source": [
    "# Prepare data for LSTM models"
   ]
  },
  {
   "cell_type": "code",
   "execution_count": 5,
   "metadata": {},
   "outputs": [],
   "source": [
    "input_X = df.loc[:, df.columns != 'faultNumber'].values  # converts the df to a numpy array\n",
    "input_y = df['faultNumber'].values\n",
    "\n",
    "n_features = input_X.shape[1]  # number of features\n",
    "\n",
    "\n"
   ]
  },
  {
   "cell_type": "code",
   "execution_count": 6,
   "metadata": {},
   "outputs": [],
   "source": [
    "def temporalize(X, y, lookback):\n",
    "    output_X = []\n",
    "    output_y = []\n",
    "    for i in range(len(X)-lookback-1):\n",
    "        t = []\n",
    "        for j in range(1,lookback+1):\n",
    "            # Gather past records upto the lookback period\n",
    "            t.append(X[[(i+j+1)], :])\n",
    "        output_X.append(t)\n",
    "        output_y.append(y[i+lookback+1])\n",
    "    return output_X, output_y"
   ]
  },
  {
   "cell_type": "code",
   "execution_count": 7,
   "metadata": {},
   "outputs": [],
   "source": [
    "lookback = 5  # Equivalent to 15 min of past data.\n",
    "# Temporalize the data\n",
    "X, y = temporalize(X = input_X, y = input_y, lookback = lookback)"
   ]
  },
  {
   "cell_type": "markdown",
   "metadata": {},
   "source": [
    "### Divide the data into train, valid, and test"
   ]
  },
  {
   "cell_type": "code",
   "execution_count": 8,
   "metadata": {},
   "outputs": [],
   "source": [
    "X_train, X_test, y_train, y_test = train_test_split(np.array(X), np.array(y), test_size=DATA_SPLIT_PCT, random_state=SEED)\n",
    "X_train, X_valid, y_train, y_valid = train_test_split(X_test, y_test, test_size=DATA_SPLIT_PCT, random_state=SEED)"
   ]
  },
  {
   "cell_type": "code",
   "execution_count": 9,
   "metadata": {},
   "outputs": [
    {
     "data": {
      "text/plain": [
       "(153599, 5, 1, 53)"
      ]
     },
     "execution_count": 9,
     "metadata": {},
     "output_type": "execute_result"
    }
   ],
   "source": [
    "X_train.shape"
   ]
  },
  {
   "cell_type": "code",
   "execution_count": 10,
   "metadata": {},
   "outputs": [],
   "source": [
    "X_train_y0 = X_train[y_train==0]\n",
    "X_train_y1 = X_train[y_train!=0] #any fault\n",
    "\n",
    "X_valid_y0 = X_valid[y_valid==0]\n",
    "X_valid_y1 = X_valid[y_valid!=0] #any fault"
   ]
  },
  {
   "cell_type": "code",
   "execution_count": 11,
   "metadata": {},
   "outputs": [
    {
     "name": "stdout",
     "output_type": "stream",
     "text": [
      "(19087, 5, 1, 53)\n",
      "(19313, 5, 1, 53)\n"
     ]
    }
   ],
   "source": [
    "print(X_valid_y0.shape)\n",
    "print(X_valid_y1.shape)"
   ]
  },
  {
   "cell_type": "markdown",
   "metadata": {},
   "source": [
    "#### Reshaping the data\n",
    "The tensors we have here are 4-dimensional. We will reshape them into the desired 3-dimensions corresponding to sample x lookback x features."
   ]
  },
  {
   "cell_type": "code",
   "execution_count": 12,
   "metadata": {},
   "outputs": [],
   "source": [
    "X_train = X_train.reshape(X_train.shape[0], lookback, n_features)\n",
    "X_train_y0 = X_train_y0.reshape(X_train_y0.shape[0], lookback, n_features)\n",
    "X_train_y1 = X_train_y1.reshape(X_train_y1.shape[0], lookback, n_features)\n",
    "\n",
    "X_test = X_test.reshape(X_test.shape[0], lookback, n_features)\n",
    "\n",
    "X_valid = X_valid.reshape(X_valid.shape[0], lookback, n_features)\n",
    "X_valid_y0 = X_valid_y0.reshape(X_valid_y0.shape[0], lookback, n_features)\n",
    "X_valid_y1 = X_valid_y1.reshape(X_valid_y1.shape[0], lookback, n_features)"
   ]
  },
  {
   "cell_type": "markdown",
   "metadata": {},
   "source": [
    "### Standardize the data"
   ]
  },
  {
   "cell_type": "code",
   "execution_count": 13,
   "metadata": {},
   "outputs": [],
   "source": [
    "def flatten(X):\n",
    "    '''\n",
    "    Flatten a 3D array.\n",
    "    \n",
    "    Input\n",
    "    X            A 3D array for lstm, where the array is sample x timesteps x features.\n",
    "    \n",
    "    Output\n",
    "    flattened_X  A 2D array, sample x features.\n",
    "    '''\n",
    "    flattened_X = np.empty((X.shape[0], X.shape[2]))  # sample x features array.\n",
    "    for i in range(X.shape[0]):\n",
    "        flattened_X[i] = X[i, (X.shape[1]-1), :]\n",
    "    return(flattened_X)\n",
    "\n",
    "def scale(X, scaler):\n",
    "    '''\n",
    "    Scale 3D array.\n",
    "\n",
    "    Inputs\n",
    "    X            A 3D array for lstm, where the array is sample x timesteps x features.\n",
    "    scaler       A scaler object, e.g., sklearn.preprocessing.StandardScaler, sklearn.preprocessing.normalize\n",
    "    \n",
    "    Output\n",
    "    X            Scaled 3D array.\n",
    "    '''\n",
    "    for i in range(X.shape[0]):\n",
    "        X[i, :, :] = scaler.transform(X[i, :, :])\n",
    "        \n",
    "    return X"
   ]
  },
  {
   "cell_type": "code",
   "execution_count": 14,
   "metadata": {},
   "outputs": [],
   "source": [
    "# Initialize a scaler using the training data.\n",
    "scaler = StandardScaler().fit(flatten(X_train_y0))"
   ]
  },
  {
   "cell_type": "code",
   "execution_count": 15,
   "metadata": {},
   "outputs": [],
   "source": [
    "X_train_y0_scaled = scale(X_train_y0, scaler)\n",
    "X_train_y1_scaled = scale(X_train_y1, scaler)\n",
    "X_train_scaled = scale(X_train, scaler)"
   ]
  },
  {
   "cell_type": "code",
   "execution_count": 16,
   "metadata": {},
   "outputs": [],
   "source": [
    "X_valid_scaled = scale(X_valid, scaler)\n",
    "X_valid_y0_scaled = scale(X_valid_y0, scaler)\n",
    "\n",
    "X_test_scaled = scale(X_test, scaler)"
   ]
  },
  {
   "cell_type": "markdown",
   "metadata": {},
   "source": [
    "## LSTM Autoencoder training"
   ]
  },
  {
   "cell_type": "markdown",
   "metadata": {},
   "source": [
    "Initialize v1 of the autoencoder architecture. More experimentation possible"
   ]
  },
  {
   "cell_type": "code",
   "execution_count": 17,
   "metadata": {},
   "outputs": [],
   "source": [
    "timesteps =  X_train_y0_scaled.shape[1] # equal to the lookback\n",
    "n_features =  X_train_y0_scaled.shape[2] # 52\n",
    "\n",
    "epochs = 40\n",
    "batch = 256\n",
    "lr = 0.002\n",
    "num_inducing_points = n_features"
   ]
  },
  {
   "cell_type": "markdown",
   "metadata": {},
   "source": [
    "Define the trainable prior and posterior distributions to estimate uncertainties"
   ]
  },
  {
   "cell_type": "code",
   "execution_count": 19,
   "metadata": {},
   "outputs": [],
   "source": [
    "input_shape=(timesteps, n_features)\n",
    "prior = tfd.Independent(tfd.Normal(loc=tf.zeros(timesteps), scale=1),\n",
    "                        reinterpreted_batch_ndims=1)\n",
    "lstm_autoencoder = Sequential()\n",
    "# Encoder\n",
    "lstm_autoencoder.add(LSTM(128, input_shape=input_shape, return_sequences=True))\n",
    "lstm_autoencoder.add(LeakyReLU(alpha=0.05))\n",
    "lstm_autoencoder.add(Dropout(0.1))\n",
    "lstm_autoencoder.add(LSTM(64, return_sequences=True))\n",
    "lstm_autoencoder.add(LeakyReLU(alpha=0.05))\n",
    "lstm_autoencoder.add(Dropout(0.1))\n",
    "lstm_autoencoder.add(LSTM(32, return_sequences=True))\n",
    "lstm_autoencoder.add(LeakyReLU(alpha=0.05))\n",
    "lstm_autoencoder.add(Dropout(0.1))\n",
    "lstm_autoencoder.add(LSTM(16, return_sequences=False))\n",
    "lstm_autoencoder.add(LeakyReLU(alpha=0.05))\n",
    "#helper layer to get the right shape for tfp layer\n",
    "lstm_autoencoder.add(Dense(tfpl.MultivariateNormalTriL.params_size(timesteps),\n",
    "                       activation=None))\n",
    "lstm_autoencoder.add(tfpl.MultivariateNormalTriL(\n",
    "                        timesteps,\n",
    "                        activity_regularizer=tfpl.KLDivergenceRegularizer(prior)))\n",
    "\n",
    "lstm_autoencoder.add(RepeatVector(timesteps))\n",
    "\n",
    "# Decoder\n",
    "lstm_autoencoder.add(LSTM(16, return_sequences=True))\n",
    "lstm_autoencoder.add(LeakyReLU(alpha=0.05))\n",
    "lstm_autoencoder.add(Dropout(0.1))\n",
    "lstm_autoencoder.add(LSTM(32, return_sequences=True))\n",
    "lstm_autoencoder.add(LeakyReLU(alpha=0.05))\n",
    "lstm_autoencoder.add(Dropout(0.1))\n",
    "lstm_autoencoder.add(LSTM(64, return_sequences=True))\n",
    "lstm_autoencoder.add(LeakyReLU(alpha=0.05))\n",
    "lstm_autoencoder.add(Dropout(0.1))\n",
    "lstm_autoencoder.add(LSTM(128, return_sequences=True))\n",
    "lstm_autoencoder.add(LeakyReLU(alpha=0.05))\n",
    "lstm_autoencoder.add(Dropout(0.1))\n",
    "lstm_autoencoder.add(TimeDistributed(Dense(n_features)))\n",
    "# bring the output into a time distributed shape\n",
    "#lstm_autoencoder.add(tfpl.DenseVariational(n_features, posterior_mean_field, prior_trainable)) \n",
    "# mathematically like a Dense Layer but with distributions \n",
    "\n",
    "#helper layer to get the right shape for tfp layer\n",
    "lstm_autoencoder.add(Dense(tfpl.IndependentNormal.params_size(n_features),\n",
    "                       activation=None))\n",
    "lstm_autoencoder.add(tfpl.IndependentNormal(n_features))\n",
    "# returns n_features independent normal distributions.\n",
    "# note: an Autoencoder tries to \"recreate\" the input\n",
    "\n",
    "#lstm_autoencoder.summary()"
   ]
  },
  {
   "cell_type": "code",
   "execution_count": 20,
   "metadata": {},
   "outputs": [
    {
     "name": "stdout",
     "output_type": "stream",
     "text": [
      "Epoch 1/40\n",
      "301/301 [==============================] - 51s 116ms/step - loss: 77.1496 - val_loss: 75.2072\n",
      "Epoch 2/40\n",
      "301/301 [==============================] - 32s 106ms/step - loss: 75.2621 - val_loss: 75.2109\n",
      "Epoch 3/40\n",
      "301/301 [==============================] - 31s 104ms/step - loss: 75.1995 - val_loss: 75.2063\n",
      "Epoch 4/40\n",
      "301/301 [==============================] - 31s 105ms/step - loss: 75.2290 - val_loss: 75.2016\n",
      "Epoch 5/40\n",
      "301/301 [==============================] - 31s 104ms/step - loss: 75.1945 - val_loss: 75.1966\n",
      "Epoch 6/40\n",
      "301/301 [==============================] - 31s 104ms/step - loss: 75.2322 - val_loss: 75.1934\n",
      "Epoch 7/40\n",
      "301/301 [==============================] - 31s 104ms/step - loss: 75.2453 - val_loss: 75.1963\n",
      "Epoch 8/40\n",
      "301/301 [==============================] - 31s 104ms/step - loss: 75.2008 - val_loss: 75.1925\n",
      "Epoch 9/40\n",
      "301/301 [==============================] - 31s 104ms/step - loss: 75.2071 - val_loss: 75.1950\n",
      "Epoch 10/40\n",
      "301/301 [==============================] - 31s 104ms/step - loss: 75.1891 - val_loss: 75.1896\n",
      "Epoch 11/40\n",
      "301/301 [==============================] - 31s 104ms/step - loss: 75.2097 - val_loss: 75.2011\n",
      "Epoch 12/40\n",
      "301/301 [==============================] - 31s 104ms/step - loss: 75.2082 - val_loss: 75.1948\n",
      "Epoch 13/40\n",
      "301/301 [==============================] - 31s 102ms/step - loss: 75.1980 - val_loss: 75.1920\n",
      "Epoch 14/40\n",
      "301/301 [==============================] - 30s 101ms/step - loss: 75.2379 - val_loss: 75.1938\n",
      "Epoch 15/40\n",
      "301/301 [==============================] - 30s 101ms/step - loss: 75.2252 - val_loss: 75.1949\n",
      "Epoch 16/40\n",
      "301/301 [==============================] - 30s 101ms/step - loss: 75.2096 - val_loss: 75.1911\n",
      "Epoch 17/40\n",
      "301/301 [==============================] - 30s 101ms/step - loss: 75.1986 - val_loss: 75.1998\n",
      "Epoch 18/40\n",
      "301/301 [==============================] - 30s 101ms/step - loss: 75.2623 - val_loss: 75.1969\n",
      "Epoch 19/40\n",
      "301/301 [==============================] - 30s 101ms/step - loss: 75.2175 - val_loss: 75.1888\n",
      "Epoch 20/40\n",
      "301/301 [==============================] - 30s 101ms/step - loss: 75.2401 - val_loss: 75.1919\n",
      "Epoch 21/40\n",
      "301/301 [==============================] - 30s 100ms/step - loss: 75.1878 - val_loss: 75.1877\n",
      "Epoch 22/40\n",
      "301/301 [==============================] - 30s 100ms/step - loss: 75.2353 - val_loss: 75.1929\n",
      "Epoch 23/40\n",
      "301/301 [==============================] - 30s 100ms/step - loss: 75.1964 - val_loss: 75.1895\n",
      "Epoch 24/40\n",
      "301/301 [==============================] - 30s 101ms/step - loss: 75.2098 - val_loss: 75.1943\n",
      "Epoch 25/40\n",
      "301/301 [==============================] - 30s 101ms/step - loss: 75.2050 - val_loss: 75.1971\n",
      "Epoch 26/40\n",
      "301/301 [==============================] - 30s 101ms/step - loss: 75.2199 - val_loss: 75.1957\n",
      "Epoch 27/40\n",
      "301/301 [==============================] - 30s 101ms/step - loss: 75.1990 - val_loss: 75.1893\n",
      "Epoch 28/40\n",
      "301/301 [==============================] - 30s 101ms/step - loss: 75.1921 - val_loss: 75.2027\n",
      "Epoch 29/40\n",
      "301/301 [==============================] - 30s 100ms/step - loss: 75.1918 - val_loss: 75.1910\n",
      "Epoch 30/40\n",
      "301/301 [==============================] - 30s 101ms/step - loss: 75.1904 - val_loss: 75.2001\n",
      "Epoch 31/40\n",
      "301/301 [==============================] - 30s 100ms/step - loss: 75.2624 - val_loss: 75.1910\n",
      "Epoch 32/40\n",
      "301/301 [==============================] - 30s 101ms/step - loss: 75.2084 - val_loss: 75.1899\n",
      "Epoch 33/40\n",
      "301/301 [==============================] - 31s 103ms/step - loss: 75.2554 - val_loss: 75.1879\n",
      "Epoch 34/40\n",
      "301/301 [==============================] - 31s 104ms/step - loss: 75.2090 - val_loss: 75.1920\n",
      "Epoch 35/40\n",
      "301/301 [==============================] - 31s 104ms/step - loss: 75.2053 - val_loss: 75.1922\n",
      "Epoch 36/40\n",
      "301/301 [==============================] - 31s 104ms/step - loss: 75.2127 - val_loss: 75.1926\n",
      "Epoch 37/40\n",
      "301/301 [==============================] - 31s 104ms/step - loss: 75.2154 - val_loss: 75.1873\n",
      "Epoch 38/40\n",
      "301/301 [==============================] - 31s 104ms/step - loss: 75.1719 - val_loss: 75.1942\n",
      "Epoch 39/40\n",
      "301/301 [==============================] - 31s 104ms/step - loss: 75.1978 - val_loss: 75.2116\n",
      "Epoch 40/40\n",
      "301/301 [==============================] - 31s 104ms/step - loss: 75.2359 - val_loss: 75.1918\n"
     ]
    }
   ],
   "source": [
    "adam = optimizers.Adam(lr)\n",
    "\n",
    "#neg loglikelihood for well defined covariance matrices\n",
    "negative_log_likelihood = lambda x, rv_x: -rv_x.log_prob(x)\n",
    "lstm_autoencoder.compile(loss=negative_log_likelihood, optimizer=adam)\n",
    "\n",
    "cp = ModelCheckpoint(filepath=\"variational_autoencoder_dropout2.h5\",\n",
    "                               save_best_only=True,\n",
    "                               verbose=0)\n",
    "\n",
    "tb = TensorBoard(log_dir='./logs',\n",
    "                histogram_freq=0,\n",
    "                write_graph=True,\n",
    "                write_images=True)\n",
    "\n",
    "lstm_autoencoder_history = lstm_autoencoder.fit(X_train_y0_scaled, X_train_y0_scaled, \n",
    "                                                epochs=epochs, \n",
    "                                                batch_size=batch, \n",
    "                                                validation_data=(X_valid_y0_scaled, X_valid_y0_scaled),\n",
    "                                                verbose=1).history"
   ]
  },
  {
   "cell_type": "markdown",
   "metadata": {},
   "source": [
    "$\\text{ELBO}(x)=\\int \\space \\text{d}z \\space q(z|x) \\space \\text{log}p(x|z) \\space + \\space \\int \\space \\text{d}z \\space q(z|x) \\frac{q(z|x)}{p(z)}$\n",
    "\n",
    "$p(z)$, the prior on the latent representation z,\n",
    "\n",
    "$q(z|x)$, the variational encoder\n",
    "\n",
    "$p(x|z)$, the decoder — how likely is the image x given the latent representation z.\n",
    "\n",
    "The first integral in the ELBO equation is the reconstruction term. It asks how likely we are to start at an image x, encode it to z, decode it, and get back the original x"
   ]
  },
  {
   "cell_type": "code",
   "execution_count": 21,
   "metadata": {},
   "outputs": [],
   "source": [
    "#lstm_autoencoder.save('../models/LSTM_Variational_Autoencoder_dropout2')"
   ]
  },
  {
   "cell_type": "code",
   "execution_count": 22,
   "metadata": {},
   "outputs": [
    {
     "data": {
      "image/png": "[encoded data removed]",
      "text/plain": [
       "<Figure size 576x432 with 1 Axes>"
      ]
     },
     "metadata": {
      "needs_background": "light"
     },
     "output_type": "display_data"
    }
   ],
   "source": [
    "plt.plot(lstm_autoencoder_history['loss'], linewidth=2, label='Train')\n",
    "plt.plot(lstm_autoencoder_history['val_loss'], linewidth=2, label='Valid')\n",
    "plt.legend(loc='upper right')\n",
    "plt.title('Model loss')\n",
    "#plt.ylim(2.5,4)\n",
    "plt.xlim(0,40)\n",
    "plt.ylabel('Loss')\n",
    "plt.xlabel('Epoch')\n",
    "plt.show()"
   ]
  },
  {
   "cell_type": "markdown",
   "metadata": {},
   "source": [
    "why does the loss keep going down? higher training rate? just the nature of loglikelihood?"
   ]
  },
  {
   "cell_type": "code",
   "execution_count": null,
   "metadata": {},
   "outputs": [],
   "source": [
    "#lstm_autoencoder = tf.keras.models.load_model(\n",
    "#    '../models/LSTM_Autoencoder_prob_128', custom_objects=None, compile=True\n",
    "#)"
   ]
  },
  {
   "cell_type": "markdown",
   "metadata": {},
   "source": [
    "## Predictions using the Autoencoder\n",
    "    - test for all faults\n",
    "    - test for performance on individual faults \"only fault n\"\n",
    "    - different cuts for different faults?"
   ]
  },
  {
   "cell_type": "markdown",
   "metadata": {},
   "source": [
    "Draw n-times for the validation data set\n",
    "\n",
    "every forward pass draws from the final distribution\n",
    "\n",
    "this is computationally expensive but we get a posterior distribution to evaluate\n",
    "\n",
    "in production there would be a smaller window used so computation time is significantly lower"
   ]
  },
  {
   "cell_type": "code",
   "execution_count": 23,
   "metadata": {},
   "outputs": [],
   "source": [
    "n_vals = 10\n",
    "yhats = [lstm_autoencoder.predict(X_valid_scaled) for _ in range(n_vals)]"
   ]
  },
  {
   "cell_type": "markdown",
   "metadata": {},
   "source": [
    "use the predictions like an ensemble"
   ]
  },
  {
   "cell_type": "code",
   "execution_count": 24,
   "metadata": {},
   "outputs": [
    {
     "name": "stdout",
     "output_type": "stream",
     "text": [
      "(38400, 5, 53)\n",
      "[ 1.6351159   0.73208681  1.01117021 ... 15.51233661  1.71381804\n",
      "  0.78277231]\n",
      "[ 96.6215157   45.83687406  59.83514108 ... 819.06627735 118.73438135\n",
      "  46.41451471]\n",
      "[ 2.10096891  1.0865164   1.29365526 ... 16.07143401  3.17617689\n",
      "  1.02253702]\n",
      "[0.90400572 0.90247518 0.92125226 ... 0.94981034 0.88174048 0.93958855]\n",
      "[ 1.51347702  0.65479365  0.92804903 ... 16.21681294  1.40614643\n",
      "  0.73119286]\n"
     ]
    }
   ],
   "source": [
    "#average over all predictions \n",
    "avg = np.squeeze(yhats).mean(axis=0)\n",
    "std = np.squeeze(yhats).std(axis=0)\n",
    "print(np.shape(avg))\n",
    "\n",
    "#calculate some regression metrics\n",
    "mse = np.mean(np.power(flatten(X_valid_scaled)-flatten(avg),2),axis=1)\n",
    "print(mse)\n",
    "chi2 = np.sum(np.power(flatten(X_valid_scaled)-flatten(avg),2)/flatten(std), axis=1)\n",
    "print(chi2)\n",
    "wmse = np.mean(np.power((flatten(X_valid_scaled)-flatten(avg))/flatten(std),2),axis=1)\n",
    "print(wmse)\n",
    "avgstd = np.mean(flatten(std),axis=1)\n",
    "print(avgstd)\n",
    "\n",
    "anomaly = np.mean(np.power((flatten(X_valid_scaled)-flatten(avg)),2)*flatten(std),axis=1)\n",
    "print(anomaly)\n",
    "\n",
    "y_valid[y_valid!=0] = 1\n",
    "error_df = pd.DataFrame({'MSE': mse,\n",
    "                         'Weighted MSE': wmse,\n",
    "                         'Chi2': chi2,\n",
    "                         'AVGSTD': avgstd, \n",
    "                         'anomaly' : anomaly,\n",
    "                         'True_class': y_valid.tolist()})\n",
    "\n",
    "error_df.to_csv('error_df.csv')"
   ]
  },
  {
   "cell_type": "code",
   "execution_count": 25,
   "metadata": {},
   "outputs": [
    {
     "data": {
      "image/png": "[encoded data removed]",
      "text/plain": [
       "<Figure size 576x432 with 1 Axes>"
      ]
     },
     "metadata": {
      "needs_background": "light"
     },
     "output_type": "display_data"
    }
   ],
   "source": [
    "precision_rt, recall_rt, threshold_rt = precision_recall_curve(error_df.True_class, error_df['Weighted MSE'])\n",
    "F1 = 2* precision_rt*recall_rt/(precision_rt+recall_rt)\n",
    "plt.plot(threshold_rt, precision_rt[1:], label=\"Precision\",linewidth=5)\n",
    "plt.plot(threshold_rt, recall_rt[1:], label=\"Recall\",linewidth=5)\n",
    "plt.plot(threshold_rt, F1[1:], label=\"F1\",linewidth=5)\n",
    "plt.xlim(0,10)\n",
    "plt.title('Precision and recall for different threshold values')\n",
    "plt.xlabel('Threshold')\n",
    "plt.ylabel('Precision/Recall')\n",
    "plt.legend()\n",
    "plt.show()"
   ]
  },
  {
   "cell_type": "code",
   "execution_count": 26,
   "metadata": {},
   "outputs": [
    {
     "data": {
      "image/png": "[encoded data removed]",
      "text/plain": [
       "<Figure size 576x432 with 1 Axes>"
      ]
     },
     "metadata": {
      "needs_background": "light"
     },
     "output_type": "display_data"
    }
   ],
   "source": [
    "precision_rt, recall_rt, threshold_rt = precision_recall_curve(error_df.True_class, error_df['MSE'])\n",
    "F1 = 2* precision_rt*recall_rt/(precision_rt+recall_rt)\n",
    "plt.plot(threshold_rt, precision_rt[1:], label=\"Precision\",linewidth=5)\n",
    "plt.plot(threshold_rt, recall_rt[1:], label=\"Recall\",linewidth=5)\n",
    "plt.plot(threshold_rt, F1[1:], label=\"F1\",linewidth=5)\n",
    "plt.xlim(0,10)\n",
    "plt.title('Precision and recall for different threshold values')\n",
    "plt.xlabel('Threshold')\n",
    "plt.ylabel('Precision/Recall')\n",
    "plt.legend()\n",
    "plt.show()"
   ]
  },
  {
   "cell_type": "code",
   "execution_count": 27,
   "metadata": {},
   "outputs": [
    {
     "data": {
      "image/png": "[encoded data removed]",
      "text/plain": [
       "<Figure size 576x432 with 1 Axes>"
      ]
     },
     "metadata": {
      "needs_background": "light"
     },
     "output_type": "display_data"
    }
   ],
   "source": [
    "precision_rt, recall_rt, threshold_rt = precision_recall_curve(error_df.True_class, error_df['Chi2'])\n",
    "F1 = 2* precision_rt*recall_rt/(precision_rt+recall_rt)\n",
    "plt.plot(threshold_rt, precision_rt[1:], label=\"Precision\",linewidth=5)\n",
    "plt.plot(threshold_rt, recall_rt[1:], label=\"Recall\",linewidth=5)\n",
    "plt.plot(threshold_rt, F1[1:], label=\"F1\",linewidth=5)\n",
    "plt.xlim(10,500)\n",
    "plt.title('Precision and recall for different threshold values')\n",
    "plt.xlabel('Threshold')\n",
    "plt.ylabel('Precision/Recall')\n",
    "plt.legend()\n",
    "plt.show()"
   ]
  },
  {
   "cell_type": "code",
   "execution_count": 28,
   "metadata": {},
   "outputs": [
    {
     "data": {
      "image/png": "[encoded data removed]",
      "text/plain": [
       "<Figure size 576x432 with 1 Axes>"
      ]
     },
     "metadata": {
      "needs_background": "light"
     },
     "output_type": "display_data"
    }
   ],
   "source": [
    "precision_rt, recall_rt, threshold_rt = precision_recall_curve(error_df.True_class, error_df['AVGSTD'])\n",
    "F1 = 2* precision_rt*recall_rt/(precision_rt+recall_rt)\n",
    "plt.plot(threshold_rt, precision_rt[1:], label=\"Precision\",linewidth=5)\n",
    "plt.plot(threshold_rt, recall_rt[1:], label=\"Recall\",linewidth=5)\n",
    "plt.plot(threshold_rt, F1[1:], label=\"F1\",linewidth=5)\n",
    "plt.xlim(0.8,1.10)\n",
    "plt.title('Precision and recall for different threshold values')\n",
    "plt.xlabel('Threshold')\n",
    "plt.ylabel('Precision/Recall')\n",
    "plt.legend()\n",
    "plt.show()"
   ]
  },
  {
   "cell_type": "code",
   "execution_count": 33,
   "metadata": {},
   "outputs": [
    {
     "data": {
      "image/png": "[encoded data removed]",
      "text/plain": [
       "<Figure size 576x432 with 1 Axes>"
      ]
     },
     "metadata": {
      "needs_background": "light"
     },
     "output_type": "display_data"
    }
   ],
   "source": [
    "precision_rt, recall_rt, threshold_rt = precision_recall_curve(error_df.True_class, error_df['anomaly'])\n",
    "F1 = 2* precision_rt*recall_rt/(precision_rt+recall_rt)\n",
    "plt.plot(threshold_rt, precision_rt[1:], label=\"Precision\",linewidth=5)\n",
    "plt.plot(threshold_rt, recall_rt[1:], label=\"Recall\",linewidth=5)\n",
    "plt.plot(threshold_rt, F1[1:], label=\"F1\",linewidth=5)\n",
    "plt.xlim(0,2)\n",
    "plt.title('Precision and recall for different threshold values')\n",
    "plt.xlabel('Threshold')\n",
    "plt.ylabel('Precision/Recall')\n",
    "plt.legend()\n",
    "plt.show()"
   ]
  },
  {
   "cell_type": "markdown",
   "metadata": {},
   "source": [
    "choose a threshold by eye looking at the scores"
   ]
  },
  {
   "cell_type": "code",
   "execution_count": 35,
   "metadata": {},
   "outputs": [],
   "source": [
    "threshold_fixed = 1.65\n",
    "pred_y = [0 if e < threshold_fixed else 1 for e in error_df['anomaly'].values]"
   ]
  },
  {
   "cell_type": "code",
   "execution_count": 36,
   "metadata": {},
   "outputs": [
    {
     "data": {
      "image/png": "[encoded data removed]",
      "text/plain": [
       "<Figure size 432x432 with 2 Axes>"
      ]
     },
     "metadata": {
      "needs_background": "light"
     },
     "output_type": "display_data"
    }
   ],
   "source": [
    "conf_matrix = confusion_matrix(error_df.True_class, pred_y)\n",
    "\n",
    "plt.figure(figsize=(6, 6))\n",
    "sns.heatmap(conf_matrix, xticklabels=LABELS, yticklabels=LABELS, annot=True, fmt=\"d\");\n",
    "plt.title(\"Confusion matrix\")\n",
    "plt.ylabel('True class')\n",
    "plt.xlabel('Predicted class')\n",
    "plt.show()"
   ]
  },
  {
   "cell_type": "code",
   "execution_count": 32,
   "metadata": {},
   "outputs": [
    {
     "data": {
      "image/png": "[encoded data removed]",
      "text/plain": [
       "<Figure size 576x432 with 1 Axes>"
      ]
     },
     "metadata": {
      "needs_background": "light"
     },
     "output_type": "display_data"
    }
   ],
   "source": [
    "false_pos_rate, true_pos_rate, thresholds = roc_curve(error_df.True_class, error_df['Weighted MSE'])\n",
    "roc_auc = auc(false_pos_rate, true_pos_rate,)\n",
    "\n",
    "plt.plot(false_pos_rate, true_pos_rate, linewidth=5, label='AUC = %0.3f'% roc_auc)\n",
    "plt.plot([0,1],[0,1], linewidth=5)\n",
    "\n",
    "plt.xlim([-0.01, 1])\n",
    "plt.ylim([0, 1.01])\n",
    "plt.legend(loc='lower right')\n",
    "plt.title('Receiver operating characteristic curve (ROC)')\n",
    "plt.ylabel('True Positive Rate')\n",
    "plt.xlabel('False Positive Rate')\n",
    "plt.show()"
   ]
  },
  {
   "cell_type": "markdown",
   "metadata": {},
   "source": [
    "Do this for all different faults?\n",
    "\n",
    "Or train another LSTM on top that does the classification"
   ]
  },
  {
   "cell_type": "code",
   "execution_count": null,
   "metadata": {},
   "outputs": [],
   "source": [
    "def evaluate_performance(X_valid_scaled, fault, n_vals=10):\n",
    "    X = X_valid_scaled[(y_valid==0)|(y_valid==fault)]   \n",
    "    yhats = [lstm_autoencoder.predict(X) for _ in range(n_vals)]\n",
    "    #average over all predictions \n",
    "    avg = np.squeeze(yhats).mean(axis=0)\n",
    "    std = np.squeeze(yhats).std(axis=0)\n",
    "\n",
    "    mse = np.mean(np.power(flatten(X)-flatten(avg),2),axis=1)\n",
    "    print(mse)\n",
    "    chi2 = np.sum(np.power(flatten(X)-flatten(avg),2)/flatten(std), axis=1)\n",
    "    print(chi2)\n",
    "    wmse = np.mean(np.power((flatten(X)-flatten(avg))/flatten(std),2),axis=1)\n",
    "    print(len(wmse))\n",
    "    y = np.zeros_like(y_valid)\n",
    "    y[y_valid==fault] = 1\n",
    "    print(len(y))\n",
    "    error_df = pd.DataFrame({'MSE': mse,\n",
    "                             'Weighted MSE': wmse,\n",
    "                             'Chi2': chi2,\n",
    "                              'True_class': y.tolist()})\n",
    "    precision_rt, recall_rt, threshold_rt = precision_recall_curve(error_df.True_class, error_df['Weighted MSE'])\n",
    "    F1 = 2* precision_rt*recall_rt/(precision_rt+recall_rt)\n",
    "    plt.plot(threshold_rt, precision_rt[1:], label=\"Precision\",linewidth=5)\n",
    "    plt.plot(threshold_rt, recall_rt[1:], label=\"Recall\",linewidth=5)\n",
    "    plt.plot(threshold_rt, F1[1:], label=\"F1\",linewidth=5)\n",
    "    plt.xlim(0.5,10)\n",
    "    plt.title('Precision and recall for different threshold values')\n",
    "    plt.xlabel('Threshold')\n",
    "    plt.ylabel('Precision/Recall')\n",
    "    plt.legend()\n",
    "    plt.show()\n",
    "    \n",
    "    false_pos_rate, true_pos_rate, thresholds = roc_curve(error_df.True_class, error_df['Weighted MSE'])\n",
    "    roc_auc = auc(false_pos_rate, true_pos_rate,)\n",
    "\n",
    "    plt.plot(false_pos_rate, true_pos_rate, linewidth=5, label='AUC = %0.3f'% roc_auc)\n",
    "    plt.plot([0,1],[0,1], linewidth=5)\n",
    "\n",
    "    plt.xlim([-0.01, 1])\n",
    "    plt.ylim([0, 1.01])\n",
    "    plt.legend(loc='lower right')\n",
    "    plt.title('Receiver operating characteristic curve (ROC)')\n",
    "    plt.ylabel('True Positive Rate')\n",
    "    plt.xlabel('False Positive Rate')\n",
    "    plt.show()"
   ]
  },
  {
   "cell_type": "code",
   "execution_count": null,
   "metadata": {},
   "outputs": [],
   "source": [
    "evaluate_performance(X_valid_scaled, 1, n_vals=10)"
   ]
  },
  {
   "cell_type": "code",
   "execution_count": null,
   "metadata": {},
   "outputs": [],
   "source": [
    "[evaluate_performance(X_valid_scaled, i, n_vals=10) for i in np.unique(y_valid)]"
   ]
  },
  {
   "cell_type": "code",
   "execution_count": null,
   "metadata": {},
   "outputs": [],
   "source": []
  }
 ],
 "metadata": {
  "kernelspec": {
   "display_name": "Python 3",
   "language": "python",
   "name": "python3"
  },
  "language_info": {
   "codemirror_mode": {
    "name": "ipython",
    "version": 3
   },
   "file_extension": ".py",
   "mimetype": "text/x-python",
   "name": "python",
   "nbconvert_exporter": "python",
   "pygments_lexer": "ipython3",
   "version": "3.8.5"
  }
 },
 "nbformat": 4,
 "nbformat_minor": 2
}
