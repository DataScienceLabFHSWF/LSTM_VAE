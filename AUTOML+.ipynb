{
 "cells": [
  {
   "cell_type": "code",
   "execution_count": 84,
   "metadata": {},
   "outputs": [],
   "source": [
    "%matplotlib inline\n",
    "import matplotlib.pyplot as plt\n",
    "import seaborn as sns\n",
    "\n",
    "import pandas as pd\n",
    "import numpy as np\n",
    "from pylab import rcParams\n",
    "\n",
    "from tensorflow.keras import regularizers\n",
    "import tensorflow as tf\n",
    "from tensorflow.keras import optimizers, Sequential\n",
    "from tensorflow.keras.models import Model\n",
    "from tensorflow.keras.utils import plot_model\n",
    "from tensorflow.keras.layers import Dense, LSTM, RepeatVector, TimeDistributed, Dropout\n",
    "from tensorflow.keras.callbacks import ModelCheckpoint, TensorBoard\n",
    "from tensorflow.keras.layers import LeakyReLU\n",
    "\n",
    "from sklearn.preprocessing import StandardScaler\n",
    "from sklearn.model_selection import train_test_split\n",
    "from sklearn.metrics import confusion_matrix, precision_recall_curve\n",
    "from sklearn.metrics import recall_score, classification_report, auc, roc_curve\n",
    "from sklearn.metrics import precision_recall_fscore_support, f1_score\n",
    "\n",
    "from numpy.random import seed\n",
    "seed(7)\n",
    "\n",
    "from sklearn.model_selection import train_test_split\n",
    "\n",
    "import tensorflow_probability as tfp\n",
    "import autokeras as ak\n",
    "\n",
    "from numpy.random import seed\n",
    "seed(7)\n",
    "\n",
    "from sklearn.model_selection import train_test_split\n",
    "\n",
    "tfd = tfp.distributions\n",
    "tfpl = tfp.layers\n",
    "SEED = 123 #used to help randomly select the data points\n",
    "DATA_SPLIT_PCT = 0.2\n",
    "\n",
    "#rcParams['figure.figsize'] = 8, 6\n",
    "LABELS = [\"Normal\",\"Break\"]\n",
    "from joblib import Parallel, delayed"
   ]
  },
  {
   "cell_type": "markdown",
   "metadata": {},
   "source": [
    "## Reading and preparing data"
   ]
  },
  {
   "cell_type": "code",
   "execution_count": 85,
   "metadata": {},
   "outputs": [
    {
     "data": {
      "text/html": [
       "<div>\n",
       "<style scoped>\n",
       "    .dataframe tbody tr th:only-of-type {\n",
       "        vertical-align: middle;\n",
       "    }\n",
       "\n",
       "    .dataframe tbody tr th {\n",
       "        vertical-align: top;\n",
       "    }\n",
       "\n",
       "    .dataframe thead th {\n",
       "        text-align: right;\n",
       "    }\n",
       "</style>\n",
       "<table border=\"1\" class=\"dataframe\">\n",
       "  <thead>\n",
       "    <tr style=\"text-align: right;\">\n",
       "      <th></th>\n",
       "      <th>Unnamed: 0</th>\n",
       "      <th>faultNumber</th>\n",
       "      <th>simulationRun</th>\n",
       "      <th>sample</th>\n",
       "      <th>xmeas_1</th>\n",
       "      <th>xmeas_2</th>\n",
       "      <th>xmeas_3</th>\n",
       "      <th>xmeas_4</th>\n",
       "      <th>xmeas_5</th>\n",
       "      <th>xmeas_6</th>\n",
       "      <th>...</th>\n",
       "      <th>xmv_2</th>\n",
       "      <th>xmv_3</th>\n",
       "      <th>xmv_4</th>\n",
       "      <th>xmv_5</th>\n",
       "      <th>xmv_6</th>\n",
       "      <th>xmv_7</th>\n",
       "      <th>xmv_8</th>\n",
       "      <th>xmv_9</th>\n",
       "      <th>xmv_10</th>\n",
       "      <th>xmv_11</th>\n",
       "    </tr>\n",
       "  </thead>\n",
       "  <tbody>\n",
       "    <tr>\n",
       "      <th>0</th>\n",
       "      <td>0</td>\n",
       "      <td>0.0</td>\n",
       "      <td>1.0</td>\n",
       "      <td>1</td>\n",
       "      <td>0.25038</td>\n",
       "      <td>3674.0</td>\n",
       "      <td>4529.0</td>\n",
       "      <td>9.2320</td>\n",
       "      <td>26.889</td>\n",
       "      <td>42.402</td>\n",
       "      <td>...</td>\n",
       "      <td>53.744</td>\n",
       "      <td>24.657</td>\n",
       "      <td>62.544</td>\n",
       "      <td>22.137</td>\n",
       "      <td>39.935</td>\n",
       "      <td>42.323</td>\n",
       "      <td>47.757</td>\n",
       "      <td>47.510</td>\n",
       "      <td>41.258</td>\n",
       "      <td>18.447</td>\n",
       "    </tr>\n",
       "    <tr>\n",
       "      <th>1</th>\n",
       "      <td>1</td>\n",
       "      <td>0.0</td>\n",
       "      <td>1.0</td>\n",
       "      <td>2</td>\n",
       "      <td>0.25109</td>\n",
       "      <td>3659.4</td>\n",
       "      <td>4556.6</td>\n",
       "      <td>9.4264</td>\n",
       "      <td>26.721</td>\n",
       "      <td>42.576</td>\n",
       "      <td>...</td>\n",
       "      <td>53.414</td>\n",
       "      <td>24.588</td>\n",
       "      <td>59.259</td>\n",
       "      <td>22.084</td>\n",
       "      <td>40.176</td>\n",
       "      <td>38.554</td>\n",
       "      <td>43.692</td>\n",
       "      <td>47.427</td>\n",
       "      <td>41.359</td>\n",
       "      <td>17.194</td>\n",
       "    </tr>\n",
       "    <tr>\n",
       "      <th>2</th>\n",
       "      <td>2</td>\n",
       "      <td>0.0</td>\n",
       "      <td>1.0</td>\n",
       "      <td>3</td>\n",
       "      <td>0.25038</td>\n",
       "      <td>3660.3</td>\n",
       "      <td>4477.8</td>\n",
       "      <td>9.4426</td>\n",
       "      <td>26.875</td>\n",
       "      <td>42.070</td>\n",
       "      <td>...</td>\n",
       "      <td>54.357</td>\n",
       "      <td>24.666</td>\n",
       "      <td>61.275</td>\n",
       "      <td>22.380</td>\n",
       "      <td>40.244</td>\n",
       "      <td>38.990</td>\n",
       "      <td>46.699</td>\n",
       "      <td>47.468</td>\n",
       "      <td>41.199</td>\n",
       "      <td>20.530</td>\n",
       "    </tr>\n",
       "    <tr>\n",
       "      <th>3</th>\n",
       "      <td>3</td>\n",
       "      <td>0.0</td>\n",
       "      <td>1.0</td>\n",
       "      <td>4</td>\n",
       "      <td>0.24977</td>\n",
       "      <td>3661.3</td>\n",
       "      <td>4512.1</td>\n",
       "      <td>9.4776</td>\n",
       "      <td>26.758</td>\n",
       "      <td>42.063</td>\n",
       "      <td>...</td>\n",
       "      <td>53.946</td>\n",
       "      <td>24.725</td>\n",
       "      <td>59.856</td>\n",
       "      <td>22.277</td>\n",
       "      <td>40.257</td>\n",
       "      <td>38.072</td>\n",
       "      <td>47.541</td>\n",
       "      <td>47.658</td>\n",
       "      <td>41.643</td>\n",
       "      <td>18.089</td>\n",
       "    </tr>\n",
       "    <tr>\n",
       "      <th>4</th>\n",
       "      <td>4</td>\n",
       "      <td>0.0</td>\n",
       "      <td>1.0</td>\n",
       "      <td>5</td>\n",
       "      <td>0.29405</td>\n",
       "      <td>3679.0</td>\n",
       "      <td>4497.0</td>\n",
       "      <td>9.3381</td>\n",
       "      <td>26.889</td>\n",
       "      <td>42.650</td>\n",
       "      <td>...</td>\n",
       "      <td>53.658</td>\n",
       "      <td>28.797</td>\n",
       "      <td>60.717</td>\n",
       "      <td>21.947</td>\n",
       "      <td>39.144</td>\n",
       "      <td>41.955</td>\n",
       "      <td>47.645</td>\n",
       "      <td>47.346</td>\n",
       "      <td>41.507</td>\n",
       "      <td>18.461</td>\n",
       "    </tr>\n",
       "  </tbody>\n",
       "</table>\n",
       "<p>5 rows × 56 columns</p>\n",
       "</div>"
      ],
      "text/plain": [
       "   Unnamed: 0  faultNumber  simulationRun  sample  xmeas_1  xmeas_2  xmeas_3  \\\n",
       "0           0          0.0            1.0       1  0.25038   3674.0   4529.0   \n",
       "1           1          0.0            1.0       2  0.25109   3659.4   4556.6   \n",
       "2           2          0.0            1.0       3  0.25038   3660.3   4477.8   \n",
       "3           3          0.0            1.0       4  0.24977   3661.3   4512.1   \n",
       "4           4          0.0            1.0       5  0.29405   3679.0   4497.0   \n",
       "\n",
       "   xmeas_4  xmeas_5  xmeas_6  ...   xmv_2   xmv_3   xmv_4   xmv_5   xmv_6  \\\n",
       "0   9.2320   26.889   42.402  ...  53.744  24.657  62.544  22.137  39.935   \n",
       "1   9.4264   26.721   42.576  ...  53.414  24.588  59.259  22.084  40.176   \n",
       "2   9.4426   26.875   42.070  ...  54.357  24.666  61.275  22.380  40.244   \n",
       "3   9.4776   26.758   42.063  ...  53.946  24.725  59.856  22.277  40.257   \n",
       "4   9.3381   26.889   42.650  ...  53.658  28.797  60.717  21.947  39.144   \n",
       "\n",
       "    xmv_7   xmv_8   xmv_9  xmv_10  xmv_11  \n",
       "0  42.323  47.757  47.510  41.258  18.447  \n",
       "1  38.554  43.692  47.427  41.359  17.194  \n",
       "2  38.990  46.699  47.468  41.199  20.530  \n",
       "3  38.072  47.541  47.658  41.643  18.089  \n",
       "4  41.955  47.645  47.346  41.507  18.461  \n",
       "\n",
       "[5 rows x 56 columns]"
      ]
     },
     "execution_count": 85,
     "metadata": {},
     "output_type": "execute_result"
    }
   ],
   "source": [
    "df = pd.read_csv(\"../data/processed/train.csv\") \n",
    "df.head(n=5)  # visualize the data."
   ]
  },
  {
   "cell_type": "code",
   "execution_count": 86,
   "metadata": {},
   "outputs": [
    {
     "data": {
      "text/plain": [
       "(21,)"
      ]
     },
     "execution_count": 86,
     "metadata": {},
     "output_type": "execute_result"
    }
   ],
   "source": [
    "df_fault_number = df.faultNumber.drop_duplicates()\n",
    "df_fault_number.shape\n",
    "\n"
   ]
  },
  {
   "cell_type": "code",
   "execution_count": 87,
   "metadata": {},
   "outputs": [],
   "source": [
    "# Remove simulation columns\n",
    "df = df.drop(['simulationRun', 'sample', 'Unnamed: 0'], axis=1)\n",
    "#ignore the hard to detect faults\n",
    "# aus welchem Grund haste 3,9,15 aus acht gelassen\n",
    "#df = df.drop(df[(df.faultNumber == 3) | (df.faultNumber == 9) | (df.faultNumber == 15)].index).reset_index()\n",
    "#make label binary\n",
    "df.loc[df['faultNumber'] > 0, 'faultNumber'] = 1\n"
   ]
  },
  {
   "cell_type": "code",
   "execution_count": 88,
   "metadata": {},
   "outputs": [
    {
     "data": {
      "text/html": [
       "<div>\n",
       "<style scoped>\n",
       "    .dataframe tbody tr th:only-of-type {\n",
       "        vertical-align: middle;\n",
       "    }\n",
       "\n",
       "    .dataframe tbody tr th {\n",
       "        vertical-align: top;\n",
       "    }\n",
       "\n",
       "    .dataframe thead th {\n",
       "        text-align: right;\n",
       "    }\n",
       "</style>\n",
       "<table border=\"1\" class=\"dataframe\">\n",
       "  <thead>\n",
       "    <tr style=\"text-align: right;\">\n",
       "      <th></th>\n",
       "      <th>faultNumber</th>\n",
       "      <th>xmeas_1</th>\n",
       "      <th>xmeas_2</th>\n",
       "      <th>xmeas_3</th>\n",
       "      <th>xmeas_4</th>\n",
       "      <th>xmeas_5</th>\n",
       "      <th>xmeas_6</th>\n",
       "      <th>xmeas_7</th>\n",
       "      <th>xmeas_8</th>\n",
       "      <th>xmeas_9</th>\n",
       "      <th>...</th>\n",
       "      <th>xmv_2</th>\n",
       "      <th>xmv_3</th>\n",
       "      <th>xmv_4</th>\n",
       "      <th>xmv_5</th>\n",
       "      <th>xmv_6</th>\n",
       "      <th>xmv_7</th>\n",
       "      <th>xmv_8</th>\n",
       "      <th>xmv_9</th>\n",
       "      <th>xmv_10</th>\n",
       "      <th>xmv_11</th>\n",
       "    </tr>\n",
       "  </thead>\n",
       "  <tbody>\n",
       "    <tr>\n",
       "      <th>893551</th>\n",
       "      <td>1.0</td>\n",
       "      <td>0.115860</td>\n",
       "      <td>3696.6</td>\n",
       "      <td>4543.3</td>\n",
       "      <td>9.2589</td>\n",
       "      <td>26.807</td>\n",
       "      <td>42.652</td>\n",
       "      <td>2674.5</td>\n",
       "      <td>74.455</td>\n",
       "      <td>120.40</td>\n",
       "      <td>...</td>\n",
       "      <td>53.989</td>\n",
       "      <td>11.600</td>\n",
       "      <td>61.972</td>\n",
       "      <td>23.716</td>\n",
       "      <td>35.911</td>\n",
       "      <td>38.477</td>\n",
       "      <td>45.305</td>\n",
       "      <td>45.415</td>\n",
       "      <td>41.242</td>\n",
       "      <td>15.719</td>\n",
       "    </tr>\n",
       "    <tr>\n",
       "      <th>1962538</th>\n",
       "      <td>1.0</td>\n",
       "      <td>0.000907</td>\n",
       "      <td>3682.6</td>\n",
       "      <td>4450.8</td>\n",
       "      <td>9.4544</td>\n",
       "      <td>27.224</td>\n",
       "      <td>41.922</td>\n",
       "      <td>2714.1</td>\n",
       "      <td>73.203</td>\n",
       "      <td>120.42</td>\n",
       "      <td>...</td>\n",
       "      <td>53.969</td>\n",
       "      <td>91.264</td>\n",
       "      <td>65.795</td>\n",
       "      <td>19.102</td>\n",
       "      <td>42.510</td>\n",
       "      <td>42.927</td>\n",
       "      <td>49.641</td>\n",
       "      <td>45.063</td>\n",
       "      <td>40.581</td>\n",
       "      <td>19.062</td>\n",
       "    </tr>\n",
       "    <tr>\n",
       "      <th>346280</th>\n",
       "      <td>1.0</td>\n",
       "      <td>0.178540</td>\n",
       "      <td>3691.4</td>\n",
       "      <td>4538.5</td>\n",
       "      <td>9.2922</td>\n",
       "      <td>26.952</td>\n",
       "      <td>42.100</td>\n",
       "      <td>2811.3</td>\n",
       "      <td>77.040</td>\n",
       "      <td>120.43</td>\n",
       "      <td>...</td>\n",
       "      <td>53.936</td>\n",
       "      <td>17.654</td>\n",
       "      <td>58.237</td>\n",
       "      <td>25.510</td>\n",
       "      <td>32.815</td>\n",
       "      <td>36.559</td>\n",
       "      <td>46.383</td>\n",
       "      <td>83.327</td>\n",
       "      <td>40.911</td>\n",
       "      <td>19.006</td>\n",
       "    </tr>\n",
       "    <tr>\n",
       "      <th>2904641</th>\n",
       "      <td>1.0</td>\n",
       "      <td>0.283000</td>\n",
       "      <td>3706.2</td>\n",
       "      <td>4592.7</td>\n",
       "      <td>9.2267</td>\n",
       "      <td>26.723</td>\n",
       "      <td>42.515</td>\n",
       "      <td>2703.0</td>\n",
       "      <td>75.732</td>\n",
       "      <td>120.42</td>\n",
       "      <td>...</td>\n",
       "      <td>53.394</td>\n",
       "      <td>27.762</td>\n",
       "      <td>59.957</td>\n",
       "      <td>21.388</td>\n",
       "      <td>41.211</td>\n",
       "      <td>40.202</td>\n",
       "      <td>45.866</td>\n",
       "      <td>49.641</td>\n",
       "      <td>41.211</td>\n",
       "      <td>18.279</td>\n",
       "    </tr>\n",
       "    <tr>\n",
       "      <th>5086828</th>\n",
       "      <td>1.0</td>\n",
       "      <td>0.223610</td>\n",
       "      <td>3676.8</td>\n",
       "      <td>4476.9</td>\n",
       "      <td>9.4144</td>\n",
       "      <td>26.962</td>\n",
       "      <td>42.276</td>\n",
       "      <td>2699.1</td>\n",
       "      <td>74.443</td>\n",
       "      <td>120.33</td>\n",
       "      <td>...</td>\n",
       "      <td>53.594</td>\n",
       "      <td>22.522</td>\n",
       "      <td>60.763</td>\n",
       "      <td>21.964</td>\n",
       "      <td>39.994</td>\n",
       "      <td>41.952</td>\n",
       "      <td>44.530</td>\n",
       "      <td>51.156</td>\n",
       "      <td>39.567</td>\n",
       "      <td>18.043</td>\n",
       "    </tr>\n",
       "    <tr>\n",
       "      <th>...</th>\n",
       "      <td>...</td>\n",
       "      <td>...</td>\n",
       "      <td>...</td>\n",
       "      <td>...</td>\n",
       "      <td>...</td>\n",
       "      <td>...</td>\n",
       "      <td>...</td>\n",
       "      <td>...</td>\n",
       "      <td>...</td>\n",
       "      <td>...</td>\n",
       "      <td>...</td>\n",
       "      <td>...</td>\n",
       "      <td>...</td>\n",
       "      <td>...</td>\n",
       "      <td>...</td>\n",
       "      <td>...</td>\n",
       "      <td>...</td>\n",
       "      <td>...</td>\n",
       "      <td>...</td>\n",
       "      <td>...</td>\n",
       "      <td>...</td>\n",
       "    </tr>\n",
       "    <tr>\n",
       "      <th>249995</th>\n",
       "      <td>0.0</td>\n",
       "      <td>0.293250</td>\n",
       "      <td>3640.1</td>\n",
       "      <td>4473.0</td>\n",
       "      <td>9.1949</td>\n",
       "      <td>26.867</td>\n",
       "      <td>42.379</td>\n",
       "      <td>2700.2</td>\n",
       "      <td>75.533</td>\n",
       "      <td>120.41</td>\n",
       "      <td>...</td>\n",
       "      <td>53.429</td>\n",
       "      <td>29.249</td>\n",
       "      <td>60.773</td>\n",
       "      <td>21.532</td>\n",
       "      <td>40.451</td>\n",
       "      <td>34.064</td>\n",
       "      <td>48.953</td>\n",
       "      <td>48.291</td>\n",
       "      <td>40.812</td>\n",
       "      <td>18.756</td>\n",
       "    </tr>\n",
       "    <tr>\n",
       "      <th>249996</th>\n",
       "      <td>0.0</td>\n",
       "      <td>0.291340</td>\n",
       "      <td>3625.7</td>\n",
       "      <td>4506.2</td>\n",
       "      <td>9.2109</td>\n",
       "      <td>26.889</td>\n",
       "      <td>42.291</td>\n",
       "      <td>2700.6</td>\n",
       "      <td>75.935</td>\n",
       "      <td>120.39</td>\n",
       "      <td>...</td>\n",
       "      <td>53.830</td>\n",
       "      <td>28.975</td>\n",
       "      <td>61.517</td>\n",
       "      <td>21.750</td>\n",
       "      <td>42.762</td>\n",
       "      <td>42.645</td>\n",
       "      <td>51.055</td>\n",
       "      <td>48.589</td>\n",
       "      <td>40.933</td>\n",
       "      <td>19.360</td>\n",
       "    </tr>\n",
       "    <tr>\n",
       "      <th>249997</th>\n",
       "      <td>0.0</td>\n",
       "      <td>0.294380</td>\n",
       "      <td>3600.2</td>\n",
       "      <td>4478.3</td>\n",
       "      <td>9.1957</td>\n",
       "      <td>26.820</td>\n",
       "      <td>42.448</td>\n",
       "      <td>2700.3</td>\n",
       "      <td>74.706</td>\n",
       "      <td>120.41</td>\n",
       "      <td>...</td>\n",
       "      <td>54.163</td>\n",
       "      <td>28.676</td>\n",
       "      <td>61.656</td>\n",
       "      <td>21.487</td>\n",
       "      <td>42.109</td>\n",
       "      <td>39.770</td>\n",
       "      <td>46.770</td>\n",
       "      <td>48.648</td>\n",
       "      <td>41.465</td>\n",
       "      <td>19.344</td>\n",
       "    </tr>\n",
       "    <tr>\n",
       "      <th>249998</th>\n",
       "      <td>0.0</td>\n",
       "      <td>0.252690</td>\n",
       "      <td>3683.5</td>\n",
       "      <td>4486.4</td>\n",
       "      <td>9.2832</td>\n",
       "      <td>27.188</td>\n",
       "      <td>42.757</td>\n",
       "      <td>2697.4</td>\n",
       "      <td>75.101</td>\n",
       "      <td>120.39</td>\n",
       "      <td>...</td>\n",
       "      <td>53.453</td>\n",
       "      <td>24.889</td>\n",
       "      <td>61.564</td>\n",
       "      <td>21.392</td>\n",
       "      <td>39.334</td>\n",
       "      <td>42.274</td>\n",
       "      <td>43.623</td>\n",
       "      <td>48.797</td>\n",
       "      <td>39.835</td>\n",
       "      <td>18.512</td>\n",
       "    </tr>\n",
       "    <tr>\n",
       "      <th>249999</th>\n",
       "      <td>0.0</td>\n",
       "      <td>0.252140</td>\n",
       "      <td>3648.2</td>\n",
       "      <td>4467.8</td>\n",
       "      <td>9.1344</td>\n",
       "      <td>26.886</td>\n",
       "      <td>42.534</td>\n",
       "      <td>2695.1</td>\n",
       "      <td>74.787</td>\n",
       "      <td>120.41</td>\n",
       "      <td>...</td>\n",
       "      <td>53.676</td>\n",
       "      <td>24.943</td>\n",
       "      <td>61.254</td>\n",
       "      <td>21.208</td>\n",
       "      <td>38.991</td>\n",
       "      <td>42.873</td>\n",
       "      <td>44.400</td>\n",
       "      <td>48.876</td>\n",
       "      <td>41.076</td>\n",
       "      <td>16.158</td>\n",
       "    </tr>\n",
       "  </tbody>\n",
       "</table>\n",
       "<p>500000 rows × 53 columns</p>\n",
       "</div>"
      ],
      "text/plain": [
       "         faultNumber   xmeas_1  xmeas_2  xmeas_3  xmeas_4  xmeas_5  xmeas_6  \\\n",
       "893551           1.0  0.115860   3696.6   4543.3   9.2589   26.807   42.652   \n",
       "1962538          1.0  0.000907   3682.6   4450.8   9.4544   27.224   41.922   \n",
       "346280           1.0  0.178540   3691.4   4538.5   9.2922   26.952   42.100   \n",
       "2904641          1.0  0.283000   3706.2   4592.7   9.2267   26.723   42.515   \n",
       "5086828          1.0  0.223610   3676.8   4476.9   9.4144   26.962   42.276   \n",
       "...              ...       ...      ...      ...      ...      ...      ...   \n",
       "249995           0.0  0.293250   3640.1   4473.0   9.1949   26.867   42.379   \n",
       "249996           0.0  0.291340   3625.7   4506.2   9.2109   26.889   42.291   \n",
       "249997           0.0  0.294380   3600.2   4478.3   9.1957   26.820   42.448   \n",
       "249998           0.0  0.252690   3683.5   4486.4   9.2832   27.188   42.757   \n",
       "249999           0.0  0.252140   3648.2   4467.8   9.1344   26.886   42.534   \n",
       "\n",
       "         xmeas_7  xmeas_8  xmeas_9  ...   xmv_2   xmv_3   xmv_4   xmv_5  \\\n",
       "893551    2674.5   74.455   120.40  ...  53.989  11.600  61.972  23.716   \n",
       "1962538   2714.1   73.203   120.42  ...  53.969  91.264  65.795  19.102   \n",
       "346280    2811.3   77.040   120.43  ...  53.936  17.654  58.237  25.510   \n",
       "2904641   2703.0   75.732   120.42  ...  53.394  27.762  59.957  21.388   \n",
       "5086828   2699.1   74.443   120.33  ...  53.594  22.522  60.763  21.964   \n",
       "...          ...      ...      ...  ...     ...     ...     ...     ...   \n",
       "249995    2700.2   75.533   120.41  ...  53.429  29.249  60.773  21.532   \n",
       "249996    2700.6   75.935   120.39  ...  53.830  28.975  61.517  21.750   \n",
       "249997    2700.3   74.706   120.41  ...  54.163  28.676  61.656  21.487   \n",
       "249998    2697.4   75.101   120.39  ...  53.453  24.889  61.564  21.392   \n",
       "249999    2695.1   74.787   120.41  ...  53.676  24.943  61.254  21.208   \n",
       "\n",
       "          xmv_6   xmv_7   xmv_8   xmv_9  xmv_10  xmv_11  \n",
       "893551   35.911  38.477  45.305  45.415  41.242  15.719  \n",
       "1962538  42.510  42.927  49.641  45.063  40.581  19.062  \n",
       "346280   32.815  36.559  46.383  83.327  40.911  19.006  \n",
       "2904641  41.211  40.202  45.866  49.641  41.211  18.279  \n",
       "5086828  39.994  41.952  44.530  51.156  39.567  18.043  \n",
       "...         ...     ...     ...     ...     ...     ...  \n",
       "249995   40.451  34.064  48.953  48.291  40.812  18.756  \n",
       "249996   42.762  42.645  51.055  48.589  40.933  19.360  \n",
       "249997   42.109  39.770  46.770  48.648  41.465  19.344  \n",
       "249998   39.334  42.274  43.623  48.797  39.835  18.512  \n",
       "249999   38.991  42.873  44.400  48.876  41.076  16.158  \n",
       "\n",
       "[500000 rows x 53 columns]"
      ]
     },
     "execution_count": 88,
     "metadata": {},
     "output_type": "execute_result"
    }
   ],
   "source": [
    "#balance classes\n",
    "df = df[df['faultNumber']!=0].sample(n=len(df[df['faultNumber']==0])).append(df[df['faultNumber']==0])\n",
    "df"
   ]
  },
  {
   "cell_type": "markdown",
   "metadata": {},
   "source": [
    "# Prepare data for LSTM models"
   ]
  },
  {
   "cell_type": "code",
   "execution_count": 89,
   "metadata": {},
   "outputs": [],
   "source": [
    "input_X = df.loc[:, df.columns != 'faultNumber'].values  # converts the df to a numpy array\n",
    "input_y = df['faultNumber'].values\n",
    "\n",
    "n_features = input_X.shape[1]  # number of features\n",
    "\n",
    "X_train, X_test, y_train, y_test = train_test_split(np.array(X), np.array(y),test_size=0.33, shuffle=False)\n",
    "X_train, X_valid, y_train, y_valid = train_test_split(X_test, y_test, test_size=DATA_SPLIT_PCT, random_state=2)\n"
   ]
  },
  {
   "cell_type": "code",
   "execution_count": 90,
   "metadata": {},
   "outputs": [],
   "source": [
    "def temporalize(X, y, lookback):\n",
    "    output_X = []\n",
    "    output_y = []\n",
    "    for i in range(len(X)-lookback-1):\n",
    "        t = []\n",
    "        for j in range(1,lookback+1):\n",
    "            # Gather past records upto the lookback period\n",
    "            t.append(X[[(i+j+1)], :])\n",
    "        output_X.append(t)\n",
    "        output_y.append(y[i+lookback+1])\n",
    "    return output_X, output_y"
   ]
  },
  {
   "cell_type": "code",
   "execution_count": 91,
   "metadata": {},
   "outputs": [],
   "source": [
    "lookback = 5  # Equivalent to 15 min of past data.\n",
    "# Temporalize the data\n",
    "X, y = temporalize(X = input_X, y = input_y, lookback = lookback)"
   ]
  },
  {
   "cell_type": "markdown",
   "metadata": {},
   "source": [
    "### Divide the data into train, valid, and test"
   ]
  },
  {
   "cell_type": "code",
   "execution_count": 92,
   "metadata": {},
   "outputs": [],
   "source": [
    "X_train, X_test, y_train, y_test = train_test_split(np.array(X), np.array(y), test_size=DATA_SPLIT_PCT, random_state=SEED)\n",
    "X_train, X_valid, y_train, y_valid = train_test_split(X_test, y_test, test_size=DATA_SPLIT_PCT, random_state=SEED)"
   ]
  },
  {
   "cell_type": "code",
   "execution_count": 93,
   "metadata": {},
   "outputs": [
    {
     "data": {
      "text/plain": [
       "(79999, 5, 1, 52)"
      ]
     },
     "execution_count": 93,
     "metadata": {},
     "output_type": "execute_result"
    }
   ],
   "source": [
    "X_train.shape"
   ]
  },
  {
   "cell_type": "code",
   "execution_count": 94,
   "metadata": {},
   "outputs": [],
   "source": [
    "X_train_y0 = X_train[y_train==0]\n",
    "X_train_y1 = X_train[y_train!=0] #any fault\n",
    "\n",
    "X_valid_y0 = X_valid[y_valid==0]\n",
    "X_valid_y1 = X_valid[y_valid!=0] #any fault"
   ]
  },
  {
   "cell_type": "code",
   "execution_count": 95,
   "metadata": {},
   "outputs": [
    {
     "name": "stdout",
     "output_type": "stream",
     "text": [
      "(9972, 5, 1, 52)\n",
      "(10028, 5, 1, 52)\n"
     ]
    }
   ],
   "source": [
    "print(X_valid_y0.shape)\n",
    "print(X_valid_y1.shape)"
   ]
  },
  {
   "cell_type": "markdown",
   "metadata": {},
   "source": [
    "#### Reshaping the data\n",
    "The tensors we have here are 4-dimensional. We will reshape them into the desired 3-dimensions corresponding to sample x lookback x features."
   ]
  },
  {
   "cell_type": "code",
   "execution_count": 96,
   "metadata": {},
   "outputs": [],
   "source": [
    "X_train = X_train.reshape(X_train.shape[0], lookback, n_features)\n",
    "X_train_y0 = X_train_y0.reshape(X_train_y0.shape[0], lookback, n_features)\n",
    "X_train_y1 = X_train_y1.reshape(X_train_y1.shape[0], lookback, n_features)\n",
    "\n",
    "X_test = X_test.reshape(X_test.shape[0], lookback, n_features)\n",
    "\n",
    "X_valid = X_valid.reshape(X_valid.shape[0], lookback, n_features)\n",
    "X_valid_y0 = X_valid_y0.reshape(X_valid_y0.shape[0], lookback, n_features)\n",
    "X_valid_y1 = X_valid_y1.reshape(X_valid_y1.shape[0], lookback, n_features)"
   ]
  },
  {
   "cell_type": "markdown",
   "metadata": {},
   "source": [
    "### Standardize the data"
   ]
  },
  {
   "cell_type": "code",
   "execution_count": 97,
   "metadata": {},
   "outputs": [],
   "source": [
    "def flatten(X):\n",
    "    '''\n",
    "    Flatten a 3D array.\n",
    "    \n",
    "    Input\n",
    "    X            A 3D array for lstm, where the array is sample x timesteps x features.\n",
    "    \n",
    "    Output\n",
    "    flattened_X  A 2D array, sample x features.\n",
    "    '''\n",
    "    flattened_X = np.empty((X.shape[0], X.shape[2]))  # sample x features array.\n",
    "    for i in range(X.shape[0]):\n",
    "        flattened_X[i] = X[i, (X.shape[1]-1), :]\n",
    "    return(flattened_X)\n",
    "\n",
    "def scale(X, scaler):\n",
    "    '''\n",
    "    Scale 3D array.\n",
    "\n",
    "    Inputs\n",
    "    X            A 3D array for lstm, where the array is sample x timesteps x features.\n",
    "    scaler       A scaler object, e.g., sklearn.preprocessing.StandardScaler, sklearn.preprocessing.normalize\n",
    "    \n",
    "    Output\n",
    "    X            Scaled 3D array.\n",
    "    '''\n",
    "    for i in range(X.shape[0]):\n",
    "        X[i, :, :] = scaler.transform(X[i, :, :])\n",
    "        \n",
    "    return X"
   ]
  },
  {
   "cell_type": "code",
   "execution_count": 98,
   "metadata": {},
   "outputs": [],
   "source": [
    "# Initialize a scaler using the training data.\n",
    "scaler = StandardScaler().fit(flatten(X_train_y0))"
   ]
  },
  {
   "cell_type": "code",
   "execution_count": 99,
   "metadata": {},
   "outputs": [],
   "source": [
    "X_train_y0_scaled = scale(X_train_y0, scaler)\n",
    "X_train_y1_scaled = scale(X_train_y1, scaler)\n",
    "X_train_scaled = scale(X_train, scaler)"
   ]
  },
  {
   "cell_type": "code",
   "execution_count": 100,
   "metadata": {},
   "outputs": [],
   "source": [
    "X_valid_scaled = scale(X_valid, scaler)\n",
    "X_valid_y0_scaled = scale(X_valid_y0, scaler)\n",
    "\n",
    "X_test_scaled = scale(X_test, scaler)"
   ]
  },
  {
   "cell_type": "markdown",
   "metadata": {},
   "source": [
    "## LSTM Autoencoder training"
   ]
  },
  {
   "cell_type": "markdown",
   "metadata": {},
   "source": [
    "Initialize v1 of the autoencoder architecture. More experimentation possible"
   ]
  },
  {
   "cell_type": "code",
   "execution_count": 101,
   "metadata": {},
   "outputs": [],
   "source": [
    "timesteps =  X_train_y0_scaled.shape[1] # equal to the lookback\n",
    "n_features =  X_train_y0_scaled.shape[2] # 52\n",
    "\n",
    "epochs = 8\n",
    "batch = 512\n",
    "lr = 0.01\n",
    "num_inducing_points = n_features"
   ]
  },
  {
   "cell_type": "markdown",
   "metadata": {},
   "source": [
    "# AUTOML"
   ]
  },
  {
   "cell_type": "code",
   "execution_count": null,
   "metadata": {},
   "outputs": [],
   "source": []
  },
  {
   "cell_type": "code",
   "execution_count": 102,
   "metadata": {},
   "outputs": [],
   "source": [
    "input_node = ak.ImageInput()\n",
    "output_node = ak.Normalization()(input_node)\n",
    "output_node1 = ak.ConvBlock()(output_node)\n",
    "#output_node2 = ak.ResNetBlock(version=\"v1\")(output_node)\n",
    "#output_node = ak.Merge()([output_node1, output_node2])\n",
    "output_node = ak.ClassificationHead()(output_node1)\n",
    "\n",
    "auto_model = ak.AutoModel(\n",
    "    inputs=input_node, outputs=output_node, overwrite=True, max_trials=1)"
   ]
  },
  {
   "cell_type": "code",
   "execution_count": null,
   "metadata": {},
   "outputs": [
    {
     "name": "stdout",
     "output_type": "stream",
     "text": [
      "Trial 1 Complete [00h 16m 38s]\n",
      "val_loss: 0.07935873419046402\n",
      "\n",
      "Best val_loss So Far: 0.07935873419046402\n",
      "Total elapsed time: 00h 16m 38s\n",
      "INFO:tensorflow:Oracle triggered exit\n",
      "2500/2500 [==============================] - 1194s 476ms/step - loss: 0.0621 - accuracy: 0.9814\n",
      "INFO:tensorflow:Assets written to: ./auto_model/best_model/assets\n"
     ]
    }
   ],
   "source": [
    "input_node = ak.ImageInput()\n",
    "output_node = ak.Normalization()(input_node)\n",
    "output_node1 = ak.ConvBlock()(output_node)\n",
    "output_node2 = ak.ResNetBlock(version=\"v2\")(output_node)\n",
    "output_node = ak.Merge()([output_node1, output_node2])\n",
    "output_node = ak.ClassificationHead()(output_node)\n",
    "\n",
    "auto_model = ak.AutoModel(\n",
    "    inputs=input_node, outputs=output_node, overwrite=True, max_trials=1\n",
    ")\n",
    "\n",
    "\n",
    "auto_model.fit(X_train, y_train, epochs=1)\n",
    "# Predict with the best model.\n",
    "predicted_y = auto_model.predict(X_test)"
   ]
  },
  {
   "cell_type": "code",
   "execution_count": null,
   "metadata": {},
   "outputs": [],
   "source": [
    "from sklearn.metrics import roc_curve,roc_auc_score\n",
    "\n",
    "false_pos_rate, true_pos_rate, thresholds = roc_curve( y_test , predicted_y)\n",
    "\n",
    "roc_auc = auc(false_pos_rate, true_pos_rate,)\n",
    "\n",
    "plt.plot(false_pos_rate, true_pos_rate, linewidth=5, label='AUC = %0.3f'% roc_auc)\n",
    "plt.plot([0,1],[0,1], linewidth=5)\n",
    "\n",
    "plt.xlim([-0.01, 1])\n",
    "plt.ylim([0, 1.01])\n",
    "plt.legend(loc='lower right')\n",
    "plt.title('Receiver operating characteristic curve (ROC)')\n",
    "plt.ylabel('True Positive Rate')\n",
    "plt.xlabel('False Positive Rate')\n",
    "plt.show()"
   ]
  },
  {
   "cell_type": "code",
   "execution_count": null,
   "metadata": {},
   "outputs": [],
   "source": [
    "precision_m( tf.dtypes.cast(y_valid, tf.float32) ,y_pred)"
   ]
  },
  {
   "cell_type": "code",
   "execution_count": 74,
   "metadata": {},
   "outputs": [],
   "source": [
    "y_pred = auto_model.predict(X_valid)"
   ]
  },
  {
   "cell_type": "markdown",
   "metadata": {},
   "source": [
    "Define the trainable prior and posterior distributions to estimate uncertainties"
   ]
  },
  {
   "cell_type": "code",
   "execution_count": 29,
   "metadata": {},
   "outputs": [
    {
     "name": "stdout",
     "output_type": "stream",
     "text": [
      "Train: 0.040, Test: 0.041\n"
     ]
    },
    {
     "ename": "AttributeError",
     "evalue": "'NoneType' object has no attribute 'history'",
     "output_type": "error",
     "traceback": [
      "\u001b[0;31m---------------------------------------------------------------------------\u001b[0m",
      "\u001b[0;31mAttributeError\u001b[0m                            Traceback (most recent call last)",
      "\u001b[0;32m<ipython-input-29-5d67dc688705>\u001b[0m in \u001b[0;36m<module>\u001b[0;34m\u001b[0m\n\u001b[1;32m      7\u001b[0m \u001b[0mpyplot\u001b[0m\u001b[0;34m.\u001b[0m\u001b[0msubplot\u001b[0m\u001b[0;34m(\u001b[0m\u001b[0;36m211\u001b[0m\u001b[0;34m)\u001b[0m\u001b[0;34m\u001b[0m\u001b[0;34m\u001b[0m\u001b[0m\n\u001b[1;32m      8\u001b[0m \u001b[0mpyplot\u001b[0m\u001b[0;34m.\u001b[0m\u001b[0mtitle\u001b[0m\u001b[0;34m(\u001b[0m\u001b[0;34m'Loss'\u001b[0m\u001b[0;34m)\u001b[0m\u001b[0;34m\u001b[0m\u001b[0;34m\u001b[0m\u001b[0m\n\u001b[0;32m----> 9\u001b[0;31m \u001b[0mpyplot\u001b[0m\u001b[0;34m.\u001b[0m\u001b[0mplot\u001b[0m\u001b[0;34m(\u001b[0m\u001b[0mhistory\u001b[0m\u001b[0;34m.\u001b[0m\u001b[0mhistory\u001b[0m\u001b[0;34m[\u001b[0m\u001b[0;34m'loss'\u001b[0m\u001b[0;34m]\u001b[0m\u001b[0;34m,\u001b[0m \u001b[0mlabel\u001b[0m\u001b[0;34m=\u001b[0m\u001b[0;34m'train'\u001b[0m\u001b[0;34m)\u001b[0m\u001b[0;34m\u001b[0m\u001b[0;34m\u001b[0m\u001b[0m\n\u001b[0m\u001b[1;32m     10\u001b[0m \u001b[0mpyplot\u001b[0m\u001b[0;34m.\u001b[0m\u001b[0mplot\u001b[0m\u001b[0;34m(\u001b[0m\u001b[0mhistory\u001b[0m\u001b[0;34m.\u001b[0m\u001b[0mhistory\u001b[0m\u001b[0;34m[\u001b[0m\u001b[0;34m'val_loss'\u001b[0m\u001b[0;34m]\u001b[0m\u001b[0;34m,\u001b[0m \u001b[0mlabel\u001b[0m\u001b[0;34m=\u001b[0m\u001b[0;34m'test'\u001b[0m\u001b[0;34m)\u001b[0m\u001b[0;34m\u001b[0m\u001b[0;34m\u001b[0m\u001b[0m\n\u001b[1;32m     11\u001b[0m \u001b[0mpyplot\u001b[0m\u001b[0;34m.\u001b[0m\u001b[0mlegend\u001b[0m\u001b[0;34m(\u001b[0m\u001b[0;34m)\u001b[0m\u001b[0;34m\u001b[0m\u001b[0;34m\u001b[0m\u001b[0m\n",
      "\u001b[0;31mAttributeError\u001b[0m: 'NoneType' object has no attribute 'history'"
     ]
    },
    {
     "data": {
      "image/png": "[encoded data removed]",
      "text/plain": [
       "<Figure size 432x288 with 1 Axes>"
      ]
     },
     "metadata": {
      "needs_background": "light"
     },
     "output_type": "display_data"
    }
   ],
   "source": [
    "from matplotlib import pyplot\n",
    "\n",
    "_, train_acc = auto_model.evaluate(X_train, y_train, verbose=0)\n",
    "_, test_acc = auto_model.evaluate(X_test, y_test, verbose=0)\n",
    "print('Train: %.3f, Test: %.3f' % (train_acc, test_acc))\n",
    "# plot loss during training\n",
    "pyplot.subplot(211)\n",
    "pyplot.title('Loss')\n",
    "pyplot.plot(history.history['loss'], label='train')\n",
    "pyplot.plot(history.history['val_loss'], label='test')\n",
    "pyplot.legend()\n",
    "# plot accuracy during training\n",
    "pyplot.subplot(212)\n",
    "pyplot.title('Accuracy')\n",
    "pyplot.plot(history.history['accuracy'], label='train')\n",
    "pyplot.plot(history.history['val_accuracy'], label='test')\n",
    "pyplot.legend()\n",
    "pyplot.show()"
   ]
  },
  {
   "cell_type": "code",
   "execution_count": 30,
   "metadata": {},
   "outputs": [
    {
     "ename": "TypeError",
     "evalue": "'NoneType' object is not subscriptable",
     "output_type": "error",
     "traceback": [
      "\u001b[0;31m---------------------------------------------------------------------------\u001b[0m",
      "\u001b[0;31mTypeError\u001b[0m                                 Traceback (most recent call last)",
      "\u001b[0;32m<ipython-input-30-30ad2278e42d>\u001b[0m in \u001b[0;36m<module>\u001b[0;34m\u001b[0m\n\u001b[0;32m----> 1\u001b[0;31m \u001b[0mhistory\u001b[0m\u001b[0;34m[\u001b[0m\u001b[0;34m'loss'\u001b[0m\u001b[0;34m]\u001b[0m\u001b[0;34m\u001b[0m\u001b[0;34m\u001b[0m\u001b[0m\n\u001b[0m",
      "\u001b[0;31mTypeError\u001b[0m: 'NoneType' object is not subscriptable"
     ]
    }
   ],
   "source": [
    "history['loss']"
   ]
  },
  {
   "cell_type": "code",
   "execution_count": 19,
   "metadata": {},
   "outputs": [
    {
     "name": "stdout",
     "output_type": "stream",
     "text": [
      "WARNING:tensorflow:From /home/neo/anaconda3/envs/TE_ML/lib/python3.8/site-packages/tensorflow/python/ops/linalg/linear_operator_lower_triangular.py:151: calling LinearOperator.__init__ (from tensorflow.python.ops.linalg.linear_operator) with graph_parents is deprecated and will be removed in a future version.\n",
      "Instructions for updating:\n",
      "Do not pass `graph_parents`.  They will  no longer be used.\n",
      "Model: \"sequential\"\n",
      "_________________________________________________________________\n",
      "Layer (type)                 Output Shape              Param #   \n",
      "=================================================================\n",
      "lstm (LSTM)                  (None, 5, 128)            93184     \n",
      "_________________________________________________________________\n",
      "leaky_re_lu (LeakyReLU)      (None, 5, 128)            0         \n",
      "_________________________________________________________________\n",
      "dropout (Dropout)            (None, 5, 128)            0         \n",
      "_________________________________________________________________\n",
      "lstm_1 (LSTM)                (None, 5, 64)             49408     \n",
      "_________________________________________________________________\n",
      "leaky_re_lu_1 (LeakyReLU)    (None, 5, 64)             0         \n",
      "_________________________________________________________________\n",
      "dropout_1 (Dropout)          (None, 5, 64)             0         \n",
      "_________________________________________________________________\n",
      "lstm_2 (LSTM)                (None, 5, 32)             12416     \n",
      "_________________________________________________________________\n",
      "leaky_re_lu_2 (LeakyReLU)    (None, 5, 32)             0         \n",
      "_________________________________________________________________\n",
      "dropout_2 (Dropout)          (None, 5, 32)             0         \n",
      "_________________________________________________________________\n",
      "lstm_3 (LSTM)                (None, 16)                3136      \n",
      "_________________________________________________________________\n",
      "leaky_re_lu_3 (LeakyReLU)    (None, 16)                0         \n",
      "_________________________________________________________________\n",
      "dense (Dense)                (None, 20)                340       \n",
      "_________________________________________________________________\n",
      "multivariate_normal_tri_l (M ((None, 5), (None, 5))    0         \n",
      "_________________________________________________________________\n",
      "repeat_vector (RepeatVector) (None, 5, 5)              0         \n",
      "_________________________________________________________________\n",
      "lstm_4 (LSTM)                (None, 5, 16)             1408      \n",
      "_________________________________________________________________\n",
      "leaky_re_lu_4 (LeakyReLU)    (None, 5, 16)             0         \n",
      "_________________________________________________________________\n",
      "dropout_3 (Dropout)          (None, 5, 16)             0         \n",
      "_________________________________________________________________\n",
      "lstm_5 (LSTM)                (None, 5, 32)             6272      \n",
      "_________________________________________________________________\n",
      "leaky_re_lu_5 (LeakyReLU)    (None, 5, 32)             0         \n",
      "_________________________________________________________________\n",
      "dropout_4 (Dropout)          (None, 5, 32)             0         \n",
      "_________________________________________________________________\n",
      "lstm_6 (LSTM)                (None, 5, 64)             24832     \n",
      "_________________________________________________________________\n",
      "leaky_re_lu_6 (LeakyReLU)    (None, 5, 64)             0         \n",
      "_________________________________________________________________\n",
      "dropout_5 (Dropout)          (None, 5, 64)             0         \n",
      "_________________________________________________________________\n",
      "lstm_7 (LSTM)                (None, 5, 128)            98816     \n",
      "_________________________________________________________________\n",
      "leaky_re_lu_7 (LeakyReLU)    (None, 5, 128)            0         \n",
      "_________________________________________________________________\n",
      "dropout_6 (Dropout)          (None, 5, 128)            0         \n",
      "_________________________________________________________________\n",
      "dense_1 (Dense)              (None, 5, 106)            13674     \n",
      "_________________________________________________________________\n",
      "independent_normal (Independ ((None, 5, 53), (None, 5, 0         \n",
      "=================================================================\n",
      "Total params: 303,486\n",
      "Trainable params: 303,486\n",
      "Non-trainable params: 0\n",
      "_________________________________________________________________\n"
     ]
    }
   ],
   "source": [
    "input_shape=(timesteps, n_features)\n",
    "prior = tfd.Independent(tfd.Normal(loc=tf.zeros(timesteps), scale=1),\n",
    "                        reinterpreted_batch_ndims=1)\n",
    "lstm_autoencoder = Sequential()\n",
    "# Encoder\n",
    "lstm_autoencoder.add(LSTM(128, input_shape=input_shape, return_sequences=True))\n",
    "lstm_autoencoder.add(LeakyReLU(alpha=0.05))\n",
    "lstm_autoencoder.add(Dropout(0.1))\n",
    "lstm_autoencoder.add(LSTM(64, return_sequences=True))\n",
    "lstm_autoencoder.add(LeakyReLU(alpha=0.05))\n",
    "lstm_autoencoder.add(Dropout(0.1))\n",
    "lstm_autoencoder.add(LSTM(32, return_sequences=True))\n",
    "lstm_autoencoder.add(LeakyReLU(alpha=0.05))\n",
    "lstm_autoencoder.add(Dropout(0.1))\n",
    "lstm_autoencoder.add(LSTM(16, return_sequences=False))\n",
    "lstm_autoencoder.add(LeakyReLU(alpha=0.05))\n",
    "#helper layer to get the right shape for tfp layer\n",
    "lstm_autoencoder.add(Dense(tfpl.MultivariateNormalTriL.params_size(timesteps),\n",
    "                       activation=None))\n",
    "lstm_autoencoder.add(tfpl.MultivariateNormalTriL(\n",
    "                        timesteps,\n",
    "                        activity_regularizer=tfpl.KLDivergenceRegularizer(prior)))\n",
    "\n",
    "lstm_autoencoder.add(RepeatVector(timesteps))\n",
    "\n",
    "# Decoder\n",
    "lstm_autoencoder.add(LSTM(16, return_sequences=True))\n",
    "lstm_autoencoder.add(LeakyReLU(alpha=0.05))\n",
    "lstm_autoencoder.add(Dropout(0.1))\n",
    "lstm_autoencoder.add(LSTM(32, return_sequences=True))\n",
    "lstm_autoencoder.add(LeakyReLU(alpha=0.05))\n",
    "lstm_autoencoder.add(Dropout(0.1))\n",
    "lstm_autoencoder.add(LSTM(64, return_sequences=True))\n",
    "lstm_autoencoder.add(LeakyReLU(alpha=0.05))\n",
    "lstm_autoencoder.add(Dropout(0.1))\n",
    "lstm_autoencoder.add(LSTM(128, return_sequences=True))\n",
    "lstm_autoencoder.add(LeakyReLU(alpha=0.05))\n",
    "lstm_autoencoder.add(Dropout(0.1))\n",
    "#lstm_autoencoder.add (Dense(n_features, kernel_regularizer=regularizers.l2(0.001), activation='relu'))\n",
    "#lstm_autoencoder.add(TimeDistributed(Dense(n_features)))\n",
    "# bring the output into a time distributed shape\n",
    "#lstm_autoencoder.add(tfpl.DenseVariational(n_features, posterior_mean_field, prior_trainable)) \n",
    "# mathematically like a Dense Layer but with distributions \n",
    "\n",
    "#helper layer to get the right shape for tfp layer\n",
    "lstm_autoencoder.add(Dense(tfpl.IndependentNormal.params_size(n_features),\n",
    "                       activation=None))\n",
    "\n",
    "lstm_autoencoder.add(tfpl.IndependentNormal(n_features))\n",
    "# returns n_features independent normal distributions.\n",
    "# note: an Autoencoder tries to \"recreate\" the input\n",
    "\n",
    "lstm_autoencoder.summary()"
   ]
  },
  {
   "cell_type": "code",
   "execution_count": 20,
   "metadata": {},
   "outputs": [
    {
     "name": "stdout",
     "output_type": "stream",
     "text": [
      "Epoch 1/8\n",
      "78/78 [==============================] - 12s 156ms/step - loss: 76.1179 - val_loss: 75.1697\n",
      "Epoch 2/8\n",
      "78/78 [==============================] - 10s 129ms/step - loss: 75.2262 - val_loss: 75.1796\n",
      "Epoch 3/8\n",
      "78/78 [==============================] - 10s 130ms/step - loss: 75.2219 - val_loss: 75.1759\n",
      "Epoch 4/8\n",
      "78/78 [==============================] - 10s 130ms/step - loss: 75.2212 - val_loss: 75.1856\n",
      "Epoch 5/8\n",
      "78/78 [==============================] - 10s 131ms/step - loss: 75.2191 - val_loss: 75.1777\n",
      "Epoch 6/8\n",
      "78/78 [==============================] - 10s 130ms/step - loss: 75.2174 - val_loss: 75.1729\n",
      "Epoch 7/8\n",
      "78/78 [==============================] - 10s 131ms/step - loss: 75.2164 - val_loss: 75.1701\n",
      "Epoch 8/8\n",
      "78/78 [==============================] - 10s 131ms/step - loss: 75.2127 - val_loss: 75.1782\n"
     ]
    }
   ],
   "source": [
    "adam = optimizers.Adam(lr)\n",
    "\n",
    "#neg loglikelihood for well defined covariance matrices\n",
    "negative_log_likelihood = lambda x, rv_x: -rv_x.log_prob(x)\n",
    "lstm_autoencoder.compile(loss=negative_log_likelihood, optimizer=adam)\n",
    "\n",
    "cp = ModelCheckpoint(filepath=\"variational_autoencoder_dropout2.h5\",\n",
    "                               save_best_only=True,\n",
    "                               verbose=0)\n",
    "\n",
    "tb = TensorBoard(log_dir='./logs',\n",
    "                histogram_freq=0,\n",
    "                write_graph=True,\n",
    "                write_images=True)\n",
    "\n",
    "lstm_autoencoder_history = lstm_autoencoder.fit(X_train_y0_scaled, X_train_y0_scaled, \n",
    "                                                epochs=epochs, \n",
    "                                                batch_size=batch, \n",
    "                                                validation_data=(X_valid_y0_scaled, X_valid_y0_scaled),\n",
    "                                                verbose=1).history"
   ]
  },
  {
   "cell_type": "markdown",
   "metadata": {},
   "source": [
    "$\\text{ELBO}(x)=\\int \\space \\text{d}z \\space q(z|x) \\space \\text{log}p(x|z) \\space + \\space \\int \\space \\text{d}z \\space q(z|x) \\frac{q(z|x)}{p(z)}$\n",
    "\n",
    "$p(z)$, the prior on the latent representation z,\n",
    "\n",
    "$q(z|x)$, the variational encoder\n",
    "\n",
    "$p(x|z)$, the decoder — how likely is the image x given the latent representation z.\n",
    "\n",
    "The first integral in the ELBO equation is the reconstruction term. It asks how likely we are to start at an image x, encode it to z, decode it, and get back the original x"
   ]
  },
  {
   "cell_type": "code",
   "execution_count": 21,
   "metadata": {},
   "outputs": [],
   "source": [
    "#lstm_autoencoder.save('../models/LSTM_Variational_Autoencoder_dropout2')"
   ]
  },
  {
   "cell_type": "code",
   "execution_count": 22,
   "metadata": {},
   "outputs": [
    {
     "data": {
      "image/png": "[encoded data removed]",
      "text/plain": [
       "<Figure size 576x432 with 1 Axes>"
      ]
     },
     "metadata": {
      "needs_background": "light"
     },
     "output_type": "display_data"
    }
   ],
   "source": [
    "plt.plot(lstm_autoencoder_history['loss'], linewidth=2, label='Train')\n",
    "plt.plot(lstm_autoencoder_history['val_loss'], linewidth=2, label='Valid')\n",
    "plt.legend(loc='upper right')\n",
    "plt.title('Model loss')\n",
    "#plt.ylim(2.5,4)\n",
    "plt.xlim(0,epochs)\n",
    "plt.ylabel('Loss')\n",
    "plt.xlabel('Epoch')\n",
    "plt.show()"
   ]
  },
  {
   "cell_type": "markdown",
   "metadata": {},
   "source": [
    "why does the loss keep going down? higher training rate? just the nature of loglikelihood?"
   ]
  },
  {
   "cell_type": "code",
   "execution_count": 23,
   "metadata": {},
   "outputs": [],
   "source": [
    "#lstm_autoencoder = tf.keras.models.load_model(\n",
    "#    '../models/LSTM_Autoencoder_prob_128', custom_objects=None, compile=True\n",
    "#)"
   ]
  },
  {
   "cell_type": "markdown",
   "metadata": {},
   "source": [
    "## Predictions using the Autoencoder\n",
    "    - test for all faults\n",
    "    - test for performance on individual faults \"only fault n\"\n",
    "    - different cuts for different faults?"
   ]
  },
  {
   "cell_type": "markdown",
   "metadata": {},
   "source": [
    "Draw n-times for the validation data set\n",
    "\n",
    "every forward pass draws from the final distribution\n",
    "\n",
    "this is computationally expensive but we get a posterior distribution to evaluate\n",
    "\n",
    "in production there would be a smaller window used so computation time is significantly lower"
   ]
  },
  {
   "cell_type": "code",
   "execution_count": 24,
   "metadata": {},
   "outputs": [],
   "source": [
    "n_vals = 10\n",
    "yhats = [lstm_autoencoder.predict(X_valid_scaled) for _ in range(n_vals)]"
   ]
  },
  {
   "cell_type": "markdown",
   "metadata": {},
   "source": [
    "use the predictions like an ensemble"
   ]
  },
  {
   "cell_type": "code",
   "execution_count": 25,
   "metadata": {},
   "outputs": [
    {
     "name": "stdout",
     "output_type": "stream",
     "text": [
      "(20000, 5, 53)\n",
      "[ 1.5279457   0.98549307  0.86297134 ...  0.99447929 96.34683592\n",
      " 33.53737583]\n",
      "[  93.88320495   57.28741653   52.00395583 ...   65.92149503 6566.17134471\n",
      " 2231.54075216]\n",
      "[  2.19501679   1.2540853    1.15163601 ...   1.66037423 159.51104227\n",
      "  53.49218576]\n",
      "[0.93124291 0.90117415 0.92880257 ... 0.91141906 0.94913444 0.89934563]\n"
     ]
    }
   ],
   "source": [
    "#average over all predictions \n",
    "avg = np.squeeze(yhats).mean(axis=0)\n",
    "std = np.squeeze(yhats).std(axis=0)\n",
    "print(np.shape(avg))\n",
    "\n",
    "#calculate some regression metrics\n",
    "mse = np.mean(np.power(flatten(X_valid_scaled)-flatten(avg),2),axis=1)\n",
    "print(mse)\n",
    "chi2 = np.sum(np.power(flatten(X_valid_scaled)-flatten(avg),2)/flatten(std), axis=1)\n",
    "print(chi2)\n",
    "wmse = np.mean(np.power((flatten(X_valid_scaled)-flatten(avg))/flatten(std),2),axis=1)\n",
    "print(wmse)\n",
    "avgstd = np.mean(flatten(std),axis=1)\n",
    "print(avgstd)\n",
    "\n",
    "y_valid[y_valid!=0] = 1\n",
    "error_df = pd.DataFrame({'MSE': mse,\n",
    "                         'Weighted MSE': wmse,\n",
    "                         'Chi2': chi2,\n",
    "                         'AVGSTD': avgstd,                         \n",
    "                         'True_class': y_valid.tolist()})\n",
    "\n",
    "error_df.to_csv('error_df.csv')"
   ]
  },
  {
   "cell_type": "code",
   "execution_count": 26,
   "metadata": {},
   "outputs": [
    {
     "data": {
      "image/png": "[encoded data removed]",
      "text/plain": [
       "<Figure size 576x432 with 1 Axes>"
      ]
     },
     "metadata": {
      "needs_background": "light"
     },
     "output_type": "display_data"
    }
   ],
   "source": [
    "precision_rt, recall_rt, threshold_rt = precision_recall_curve(error_df.True_class, error_df['Weighted MSE'])\n",
    "F1 = 2* precision_rt*recall_rt/(precision_rt+recall_rt)\n",
    "plt.plot(threshold_rt, precision_rt[1:], label=\"Precision\",linewidth=5)\n",
    "plt.plot(threshold_rt, recall_rt[1:], label=\"Recall\",linewidth=5)\n",
    "plt.plot(threshold_rt, F1[1:], label=\"F1\",linewidth=5)\n",
    "plt.xlim(0,10)\n",
    "plt.title('Precision and recall for different threshold values')\n",
    "plt.xlabel('Threshold')\n",
    "plt.ylabel('Precision/Recall')\n",
    "plt.legend()\n",
    "plt.grid()\n",
    "plt.show()"
   ]
  },
  {
   "cell_type": "code",
   "execution_count": 27,
   "metadata": {},
   "outputs": [
    {
     "data": {
      "image/png": "[encoded data removed]",
      "text/plain": [
       "<Figure size 576x432 with 1 Axes>"
      ]
     },
     "metadata": {
      "needs_background": "light"
     },
     "output_type": "display_data"
    }
   ],
   "source": [
    "precision_rt, recall_rt, threshold_rt = precision_recall_curve(error_df.True_class, error_df['MSE'])\n",
    "F1 = 2* precision_rt*recall_rt/(precision_rt+recall_rt)\n",
    "plt.plot(threshold_rt, precision_rt[1:], label=\"Precision\",linewidth=5)\n",
    "plt.plot(threshold_rt, recall_rt[1:], label=\"Recall\",linewidth=5)\n",
    "plt.plot(threshold_rt, F1[1:], label=\"F1\",linewidth=5)\n",
    "plt.xlim(0,10)\n",
    "plt.title('Precision and recall for different threshold values')\n",
    "plt.xlabel('Threshold')\n",
    "plt.ylabel('Precision/Recall')\n",
    "plt.legend()\n",
    "plt.show()"
   ]
  },
  {
   "cell_type": "code",
   "execution_count": 28,
   "metadata": {},
   "outputs": [
    {
     "data": {
      "image/png": "[encoded data removed]",
      "text/plain": [
       "<Figure size 576x432 with 1 Axes>"
      ]
     },
     "metadata": {
      "needs_background": "light"
     },
     "output_type": "display_data"
    }
   ],
   "source": [
    "precision_rt, recall_rt, threshold_rt = precision_recall_curve(error_df.True_class, error_df['Chi2'])\n",
    "F1 = 2* precision_rt*recall_rt/(precision_rt+recall_rt)\n",
    "plt.plot(threshold_rt, precision_rt[1:], label=\"Precision\",linewidth=5)\n",
    "plt.plot(threshold_rt, recall_rt[1:], label=\"Recall\",linewidth=5)\n",
    "plt.plot(threshold_rt, F1[1:], label=\"F1\",linewidth=5)\n",
    "plt.xlim(10,500)\n",
    "plt.title('Precision and recall for different threshold values')\n",
    "plt.xlabel('Threshold')\n",
    "plt.ylabel('Precision/Recall')\n",
    "plt.legend()\n",
    "plt.show()"
   ]
  },
  {
   "cell_type": "code",
   "execution_count": 29,
   "metadata": {},
   "outputs": [
    {
     "name": "stderr",
     "output_type": "stream",
     "text": [
      "<ipython-input-29-753680ebff6b>:2: RuntimeWarning: invalid value encountered in true_divide\n",
      "  F1 = 2* precision_rt*recall_rt/(precision_rt+recall_rt)\n"
     ]
    },
    {
     "data": {
      "image/png": "[encoded data removed]",
      "text/plain": [
       "<Figure size 576x432 with 1 Axes>"
      ]
     },
     "metadata": {
      "needs_background": "light"
     },
     "output_type": "display_data"
    }
   ],
   "source": [
    "precision_rt, recall_rt, threshold_rt = precision_recall_curve(error_df.True_class, error_df['AVGSTD'])\n",
    "F1 = 2* precision_rt*recall_rt/(precision_rt+recall_rt)\n",
    "plt.plot(threshold_rt, precision_rt[1:], label=\"Precision\",linewidth=5)\n",
    "plt.plot(threshold_rt, recall_rt[1:], label=\"Recall\",linewidth=5)\n",
    "plt.plot(threshold_rt, F1[1:], label=\"F1\",linewidth=5)\n",
    "plt.xlim(0.8,1.10)\n",
    "plt.title('Precision and recall for different threshold values')\n",
    "plt.xlabel('Threshold')\n",
    "plt.ylabel('Precision/Recall')\n",
    "plt.legend()\n",
    "plt.show()"
   ]
  },
  {
   "cell_type": "markdown",
   "metadata": {},
   "source": [
    "choose a threshold by eye looking at the scores"
   ]
  },
  {
   "cell_type": "code",
   "execution_count": 30,
   "metadata": {},
   "outputs": [],
   "source": [
    "threshold_fixed = 2.3\n",
    "pred_y = [0 if e < threshold_fixed else 1 for e in error_df['Weighted MSE'].values]"
   ]
  },
  {
   "cell_type": "code",
   "execution_count": 31,
   "metadata": {},
   "outputs": [
    {
     "data": {
      "image/png": "[encoded data removed]",
      "text/plain": [
       "<Figure size 432x432 with 2 Axes>"
      ]
     },
     "metadata": {
      "needs_background": "light"
     },
     "output_type": "display_data"
    }
   ],
   "source": [
    "conf_matrix = confusion_matrix(error_df.True_class, pred_y)\n",
    "\n",
    "plt.figure(figsize=(6, 6))\n",
    "sns.heatmap(conf_matrix, xticklabels=LABELS, yticklabels=LABELS, annot=True, fmt=\"d\");\n",
    "plt.title(\"Confusion matrix\")\n",
    "plt.ylabel('True class')\n",
    "plt.xlabel('Predicted class')\n",
    "plt.show()"
   ]
  },
  {
   "cell_type": "code",
   "execution_count": 32,
   "metadata": {},
   "outputs": [
    {
     "data": {
      "image/png": "[encoded data removed]",
      "text/plain": [
       "<Figure size 576x432 with 1 Axes>"
      ]
     },
     "metadata": {
      "needs_background": "light"
     },
     "output_type": "display_data"
    }
   ],
   "source": [
    "false_pos_rate, true_pos_rate, thresholds = roc_curve(error_df.True_class, error_df['Weighted MSE'])\n",
    "roc_auc = auc(false_pos_rate, true_pos_rate,)\n",
    "\n",
    "plt.plot(false_pos_rate, true_pos_rate, linewidth=5, label='AUC = %0.3f'% roc_auc)\n",
    "plt.plot([0,1],[0,1], linewidth=5)\n",
    "\n",
    "plt.xlim([-0.01, 1])\n",
    "plt.ylim([0, 1.01])\n",
    "plt.legend(loc='lower right')\n",
    "plt.title('Receiver operating characteristic curve (ROC)')\n",
    "plt.ylabel('True Positive Rate')\n",
    "plt.xlabel('False Positive Rate')\n",
    "plt.show()"
   ]
  },
  {
   "cell_type": "markdown",
   "metadata": {},
   "source": [
    "Do this for all different faults?\n",
    "\n",
    "Or train another LSTM on top that does the classification"
   ]
  },
  {
   "cell_type": "code",
   "execution_count": 33,
   "metadata": {},
   "outputs": [],
   "source": [
    "def evaluate_performance(X_valid_scaled, fault, n_vals=10):\n",
    "    X = X_valid_scaled[(y_valid==0)|(y_valid==fault)]   \n",
    "    yhats = [lstm_autoencoder.predict(X) for _ in range(n_vals)]\n",
    "    #average over all predictions \n",
    "    avg = np.squeeze(yhats).mean(axis=0)\n",
    "    std = np.squeeze(yhats).std(axis=0)\n",
    "\n",
    "    mse = np.mean(np.power(flatten(X)-flatten(avg),2),axis=1)\n",
    "    print(mse)\n",
    "    chi2 = np.sum(np.power(flatten(X)-flatten(avg),2)/flatten(std), axis=1)\n",
    "    print(chi2)\n",
    "    wmse = np.mean(np.power((flatten(X)-flatten(avg))/flatten(std),2),axis=1)\n",
    "    print(len(wmse))\n",
    "    y = np.zeros_like(y_valid)\n",
    "    y[y_valid==fault] = 1\n",
    "    print(len(y))\n",
    "    error_df = pd.DataFrame({'MSE': mse,\n",
    "                             'Weighted MSE': wmse,\n",
    "                             'Chi2': chi2,\n",
    "                              'True_class': y.tolist()})\n",
    "    precision_rt, recall_rt, threshold_rt = precision_recall_curve(error_df.True_class, error_df['Weighted MSE'])\n",
    "    F1 = 2* precision_rt*recall_rt/(precision_rt+recall_rt)\n",
    "    plt.plot(threshold_rt, precision_rt[1:], label=\"Precision\",linewidth=5)\n",
    "    plt.plot(threshold_rt, recall_rt[1:], label=\"Recall\",linewidth=5)\n",
    "    plt.plot(threshold_rt, F1[1:], label=\"F1\",linewidth=5)\n",
    "    plt.xlim(0.5,10)\n",
    "    plt.title('Precision and recall for different threshold values')\n",
    "    plt.xlabel('Threshold')\n",
    "    plt.ylabel('Precision/Recall')\n",
    "    plt.legend()\n",
    "    plt.show()\n",
    "    \n",
    "    false_pos_rate, true_pos_rate, thresholds = roc_curve(error_df.True_class, error_df['Weighted MSE'])\n",
    "    roc_auc = auc(false_pos_rate, true_pos_rate,)\n",
    "\n",
    "    plt.plot(false_pos_rate, true_pos_rate, linewidth=5, label='AUC = %0.3f'% roc_auc)\n",
    "    plt.plot([0,1],[0,1], linewidth=5)\n",
    "\n",
    "    plt.xlim([-0.01, 1])\n",
    "    plt.ylim([0, 1.01])\n",
    "    plt.legend(loc='lower right')\n",
    "    plt.title('Receiver operating characteristic curve (ROC)')\n",
    "    plt.ylabel('True Positive Rate')\n",
    "    plt.xlabel('False Positive Rate')\n",
    "    plt.show()"
   ]
  },
  {
   "cell_type": "code",
   "execution_count": 34,
   "metadata": {},
   "outputs": [
    {
     "name": "stdout",
     "output_type": "stream",
     "text": [
      "[ 1.56546055  0.95231856  0.86014732 ...  1.08297833 95.5665819\n",
      " 33.13309293]\n",
      "[  99.95729724   57.60874553   52.03177404 ...   61.2753765  4921.41592894\n",
      " 2050.55204072]\n",
      "20000\n",
      "20000\n"
     ]
    },
    {
     "data": {
      "image/png": "[encoded data removed]",
      "text/plain": [
       "<Figure size 576x432 with 1 Axes>"
      ]
     },
     "metadata": {
      "needs_background": "light"
     },
     "output_type": "display_data"
    },
    {
     "data": {
      "image/png": "[encoded data removed]",
      "text/plain": [
       "<Figure size 576x432 with 1 Axes>"
      ]
     },
     "metadata": {
      "needs_background": "light"
     },
     "output_type": "display_data"
    }
   ],
   "source": [
    "evaluate_performance(X_valid_scaled, 1, n_vals=10)"
   ]
  },
  {
   "cell_type": "code",
   "execution_count": null,
   "metadata": {},
   "outputs": [],
   "source": [
    "[evaluate_performance(X_valid_scaled, i, n_vals=10) for i in np.unique(y_valid)]"
   ]
  },
  {
   "cell_type": "code",
   "execution_count": null,
   "metadata": {},
   "outputs": [],
   "source": []
  }
 ],
 "metadata": {
  "kernelspec": {
   "display_name": "Python 3",
   "language": "python",
   "name": "python3"
  },
  "language_info": {
   "codemirror_mode": {
    "name": "ipython",
    "version": 3
   },
   "file_extension": ".py",
   "mimetype": "text/x-python",
   "name": "python",
   "nbconvert_exporter": "python",
   "pygments_lexer": "ipython3",
   "version": "3.8.2"
  }
 },
 "nbformat": 4,
 "nbformat_minor": 2
}
